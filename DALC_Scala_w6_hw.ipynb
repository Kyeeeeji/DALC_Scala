{
  "nbformat": 4,
  "nbformat_minor": 0,
  "metadata": {
    "colab": {
      "name": "DALC_Scala_w6_hw.ipynb",
      "provenance": [],
      "authorship_tag": "ABX9TyP/4rcEo9+J2IqAeOSLjp0S",
      "include_colab_link": true
    },
    "kernelspec": {
      "name": "python3",
      "display_name": "Python 3"
    },
    "language_info": {
      "name": "python"
    }
  },
  "cells": [
    {
      "cell_type": "markdown",
      "metadata": {
        "id": "view-in-github",
        "colab_type": "text"
      },
      "source": [
        "<a href=\"https://colab.research.google.com/github/Kyeeeeji/DALC_Scalar/blob/main/DALC_Scala_w6_hw.ipynb\" target=\"_parent\"><img src=\"https://colab.research.google.com/assets/colab-badge.svg\" alt=\"Open In Colab\"/></a>"
      ]
    },
    {
      "cell_type": "code",
      "metadata": {
        "id": "BWMcyiQLuM9U"
      },
      "source": [
        "import seaborn as sns"
      ],
      "execution_count": 1,
      "outputs": []
    },
    {
      "cell_type": "code",
      "metadata": {
        "id": "__6LhWQhujBp"
      },
      "source": [
        "iris = sns.load_dataset('iris')"
      ],
      "execution_count": 2,
      "outputs": []
    },
    {
      "cell_type": "code",
      "metadata": {
        "colab": {
          "base_uri": "https://localhost:8080/",
          "height": 166
        },
        "id": "yfuI5LPiukZo",
        "outputId": "8139c9f3-13c9-4437-a582-f98a8f0a71ef"
      },
      "source": [
        "iris.head(4)    \n",
        "# 일반적으로 행을 표본이라고 하고 열을 특징이라고 함. --> 특징행렬\n",
        "# 열의 마지막에는 꽃의 품종 나타내는 값 : (케바케) 이 열을 따로 구분하여 **대상(타겟)**이라고 부른다\n",
        "# 대상 배열의 두드러진 특징 =  데이터로부터 예측하고자 하는 값 = 종속변수"
      ],
      "execution_count": 3,
      "outputs": [
        {
          "output_type": "execute_result",
          "data": {
            "text/html": [
              "<div>\n",
              "<style scoped>\n",
              "    .dataframe tbody tr th:only-of-type {\n",
              "        vertical-align: middle;\n",
              "    }\n",
              "\n",
              "    .dataframe tbody tr th {\n",
              "        vertical-align: top;\n",
              "    }\n",
              "\n",
              "    .dataframe thead th {\n",
              "        text-align: right;\n",
              "    }\n",
              "</style>\n",
              "<table border=\"1\" class=\"dataframe\">\n",
              "  <thead>\n",
              "    <tr style=\"text-align: right;\">\n",
              "      <th></th>\n",
              "      <th>sepal_length</th>\n",
              "      <th>sepal_width</th>\n",
              "      <th>petal_length</th>\n",
              "      <th>petal_width</th>\n",
              "      <th>species</th>\n",
              "    </tr>\n",
              "  </thead>\n",
              "  <tbody>\n",
              "    <tr>\n",
              "      <th>0</th>\n",
              "      <td>5.1</td>\n",
              "      <td>3.5</td>\n",
              "      <td>1.4</td>\n",
              "      <td>0.2</td>\n",
              "      <td>setosa</td>\n",
              "    </tr>\n",
              "    <tr>\n",
              "      <th>1</th>\n",
              "      <td>4.9</td>\n",
              "      <td>3.0</td>\n",
              "      <td>1.4</td>\n",
              "      <td>0.2</td>\n",
              "      <td>setosa</td>\n",
              "    </tr>\n",
              "    <tr>\n",
              "      <th>2</th>\n",
              "      <td>4.7</td>\n",
              "      <td>3.2</td>\n",
              "      <td>1.3</td>\n",
              "      <td>0.2</td>\n",
              "      <td>setosa</td>\n",
              "    </tr>\n",
              "    <tr>\n",
              "      <th>3</th>\n",
              "      <td>4.6</td>\n",
              "      <td>3.1</td>\n",
              "      <td>1.5</td>\n",
              "      <td>0.2</td>\n",
              "      <td>setosa</td>\n",
              "    </tr>\n",
              "  </tbody>\n",
              "</table>\n",
              "</div>"
            ],
            "text/plain": [
              "   sepal_length  sepal_width  petal_length  petal_width species\n",
              "0           5.1          3.5           1.4          0.2  setosa\n",
              "1           4.9          3.0           1.4          0.2  setosa\n",
              "2           4.7          3.2           1.3          0.2  setosa\n",
              "3           4.6          3.1           1.5          0.2  setosa"
            ]
          },
          "metadata": {
            "tags": []
          },
          "execution_count": 3
        }
      ]
    },
    {
      "cell_type": "code",
      "metadata": {
        "id": "2PKZhkE6uloG"
      },
      "source": [
        "import matplotlib.pyplot as plt\n",
        "import numpy as np"
      ],
      "execution_count": 4,
      "outputs": []
    },
    {
      "cell_type": "code",
      "metadata": {
        "colab": {
          "base_uri": "https://localhost:8080/",
          "height": 265
        },
        "id": "HqcsQ27Wuo83",
        "outputId": "46232955-893d-4959-e0c8-0bb4c31574ff"
      },
      "source": [
        "rng = np.random.RandomState(42)\n",
        "# numpy로 생성한 난수 데이터\n",
        "\n",
        "x = 10*rng.rand(50)\n",
        "# 0과 1사이의 난수 50개 생성하고 10을 곱하여 결과적으로 0~10 사이의 값을 갖도록 함\n",
        "\n",
        "y = 2*x-1+rng.randn(50)   # y는 x에 2를 곱하고 1을 뺀 다음에 표준정규분포를 따르는 난수를 더해서 변동이 발생하도록\n",
        "plt.scatter(x,y);"
      ],
      "execution_count": 5,
      "outputs": [
        {
          "output_type": "display_data",
          "data": {
            "image/png": "[encoded data removed]",
            "text/plain": [
              "<Figure size 432x288 with 1 Axes>"
            ]
          },
          "metadata": {
            "tags": [],
            "needs_background": "light"
          }
        }
      ]
    },
    {
      "cell_type": "code",
      "metadata": {
        "id": "915lt-TEuz_a"
      },
      "source": [
        "from sklearn.linear_model import LinearRegression"
      ],
      "execution_count": 6,
      "outputs": []
    },
    {
      "cell_type": "code",
      "metadata": {
        "id": "xWAnBEqJu1rE"
      },
      "source": [
        "model = LinearRegression(fit_intercept=True)    # 절편 사용할땐 True, 안사용할땐 False"
      ],
      "execution_count": 7,
      "outputs": []
    },
    {
      "cell_type": "code",
      "metadata": {
        "colab": {
          "base_uri": "https://localhost:8080/"
        },
        "id": "R0RrI9g5u2-V",
        "outputId": "f6c6b7c7-4924-4a22-da68-0c1149132107"
      },
      "source": [
        "# 1차원으로 생성된 데이터 2차원으로 변경하기\n",
        "X = x.reshape(50,1)\n",
        "X.shape\n",
        "\n",
        "# X = x[:, np.newaxis]\n",
        "# X.shape 도 가능"
      ],
      "execution_count": 8,
      "outputs": [
        {
          "output_type": "execute_result",
          "data": {
            "text/plain": [
              "(50, 1)"
            ]
          },
          "metadata": {
            "tags": []
          },
          "execution_count": 8
        }
      ]
    },
    {
      "cell_type": "code",
      "metadata": {
        "colab": {
          "base_uri": "https://localhost:8080/"
        },
        "id": "5gGzIK4Pu4Yx",
        "outputId": "95170be2-66fa-4bca-e3b2-cb507a0515bb"
      },
      "source": [
        "model.fit(X, y)    # 사용자가 해당 속성값을 간단히 확인 가능"
      ],
      "execution_count": 9,
      "outputs": [
        {
          "output_type": "execute_result",
          "data": {
            "text/plain": [
              "LinearRegression(copy_X=True, fit_intercept=True, n_jobs=None, normalize=False)"
            ]
          },
          "metadata": {
            "tags": []
          },
          "execution_count": 9
        }
      ]
    },
    {
      "cell_type": "code",
      "metadata": {
        "colab": {
          "base_uri": "https://localhost:8080/"
        },
        "id": "MDgHzMZbu5jY",
        "outputId": "31d71af6-66c2-4207-9909-457e48333c0b"
      },
      "source": [
        "# Scikit-Learn에서는 관례상 fit() 절차동안 학습된 모델모수는 뒤에 모두 _가 붙는다\n",
        "print(model.coef_)    # 기울기 계수값\n",
        "print(model.intercept_)   # 절편값 1개의 모수"
      ],
      "execution_count": 10,
      "outputs": [
        {
          "output_type": "stream",
          "text": [
            "[1.9776566]\n",
            "-0.9033107255311146\n"
          ],
          "name": "stdout"
        }
      ]
    },
    {
      "cell_type": "code",
      "metadata": {
        "colab": {
          "base_uri": "https://localhost:8080/"
        },
        "id": "EH9rGpmqu7IK",
        "outputId": "ca53f00f-6167-4329-ac21-3ccff40711cd"
      },
      "source": [
        "# Scikit-Learn에서는 관례상 fit() 절차동안 학습된 모델모수는 뒤에 모두 _가 붙는다\n",
        "print(model.coef_)    # 기울기 계수값\n",
        "print(model.intercept_)   # 절편값 1개의 모수# Scikit-Learn에서는 관례상 fit() 절차동안 학습된 모델모수는 뒤에 모두 _가 붙는다\n",
        "print(model.coef_)    # 기울기 계수값\n",
        "print(model.intercept_)   # 절편값 1개의 모수"
      ],
      "execution_count": 11,
      "outputs": [
        {
          "output_type": "stream",
          "text": [
            "[1.9776566]\n",
            "-0.9033107255311146\n",
            "[1.9776566]\n",
            "-0.9033107255311146\n"
          ],
          "name": "stdout"
        }
      ]
    },
    {
      "cell_type": "code",
      "metadata": {
        "colab": {
          "base_uri": "https://localhost:8080/"
        },
        "id": "KYaQ3-BKvDQD",
        "outputId": "73baf03a-cd72-45b8-8b3a-6b97b14069b8"
      },
      "source": [
        "# 모델 정확도 확인\n",
        "model.score(X, y)\n",
        "# 0.97정도의 R^2(결정계수)값 산술\n",
        "# 1에 가까운 값을 나타낼 수록 정확도가 높다고 판단"
      ],
      "execution_count": 12,
      "outputs": [
        {
          "output_type": "execute_result",
          "data": {
            "text/plain": [
              "0.9749140085676858"
            ]
          },
          "metadata": {
            "tags": []
          },
          "execution_count": 12
        }
      ]
    },
    {
      "cell_type": "code",
      "metadata": {
        "colab": {
          "base_uri": "https://localhost:8080/",
          "height": 265
        },
        "id": "bwluBdC4vEkb",
        "outputId": "be0f9e76-5615-49a1-a909-ac52faaab616"
      },
      "source": [
        "# 모델 추가\n",
        "xfit = np.linspace(-1,11)\n",
        "plt.scatter(x,y)\n",
        "plt.plot(xfit, model.coef_*xfit+model.intercept_,'-r');"
      ],
      "execution_count": 13,
      "outputs": [
        {
          "output_type": "display_data",
          "data": {
            "image/png": "[encoded data removed]",
            "text/plain": [
              "<Figure size 432x288 with 1 Axes>"
            ]
          },
          "metadata": {
            "tags": [],
            "needs_background": "light"
          }
        }
      ]
    },
    {
      "cell_type": "code",
      "metadata": {
        "id": "aer2Xoa-vFlk"
      },
      "source": [
        "# 파이프라인 : 전처리 프로그램과 선형회귀 모델을 묶어놓은 프로그램\n",
        "from sklearn.preprocessing import  PolynomialFeatures\n",
        "from sklearn.linear_model import LinearRegression\n",
        "from sklearn.pipeline import make_pipeline\n",
        "\n",
        "def PolynomialRegression(degree=2, **kwargs):\n",
        "  return make_pipeline(PolynomialFeatures(degree), LinearRegression(**kwargs))"
      ],
      "execution_count": 16,
      "outputs": []
    },
    {
      "cell_type": "code",
      "metadata": {
        "id": "I6FxSosYvG2o"
      },
      "source": [
        "# 데이터 생성\n",
        "# 40개의 데이터를 생성하고 x와 y의 관계는 비선형\n",
        "import numpy as np\n",
        "\n",
        "def make_data(N, err=1.0, rseed=1):\n",
        "  rng=np.random.RandomState(rseed)\n",
        "  X=rng.rand(N)**2\n",
        "  y=10-1./(X+0.1)\n",
        "  if err >0:\n",
        "    y += err*rng.randn(N)\n",
        "    return X,y\n",
        "  \n",
        "X,y = make_data(40)"
      ],
      "execution_count": 17,
      "outputs": []
    },
    {
      "cell_type": "code",
      "metadata": {
        "colab": {
          "base_uri": "https://localhost:8080/",
          "height": 268
        },
        "id": "51dSo5fTvKgK",
        "outputId": "eee690fa-bcfa-45d4-b9b4-3506bfd050f2"
      },
      "source": [
        "\n",
        "%matplotlib inline\n",
        "import matplotlib.pyplot as plt\n",
        "import seaborn;seaborn.set()\n",
        "\n",
        "X_test=np.linspace(-0.1,1.1,500)\n",
        "plt.scatter(X,y,color='black')\n",
        "axis=plt.axis()"
      ],
      "execution_count": 18,
      "outputs": [
        {
          "output_type": "display_data",
          "data": {
            "image/png": "[encoded data removed]",
            "text/plain": [
              "<Figure size 432x288 with 1 Axes>"
            ]
          },
          "metadata": {
            "tags": []
          }
        }
      ]
    },
    {
      "cell_type": "code",
      "metadata": {
        "colab": {
          "base_uri": "https://localhost:8080/",
          "height": 272
        },
        "id": "7rvZjdH_vPDW",
        "outputId": "d3ef4dd6-4753-46c9-f1be-277be71f9279"
      },
      "source": [
        "plt.scatter(X,y,color='black')\n",
        "\n",
        "for degree in [1,2,3]:    # 반복문 내부에서 다항식의 차수를 1에서 3까지 증가시킴\n",
        "  model=PolynomialRegression(degree)\n",
        "  model.fit(X[:,np.newaxis],y)\n",
        "  y_test=model.predict(X_test[:,np.newaxis])\n",
        "  plt.plot(X_test,y_test,label=f'Degree={degree}')\n",
        "\n",
        "  plt.axis([-0.1,1.0,-2,12])\n",
        "  plt.legend(loc='best')"
      ],
      "execution_count": 19,
      "outputs": [
        {
          "output_type": "display_data",
          "data": {
            "image/png": "[encoded data removed]",
            "text/plain": [
              "<Figure size 432x288 with 1 Axes>"
            ]
          },
          "metadata": {
            "tags": []
          }
        }
      ]
    },
    {
      "cell_type": "code",
      "metadata": {
        "id": "UaEkzuHrvRZu"
      },
      "source": [
        ""
      ],
      "execution_count": 19,
      "outputs": []
    }
  ]
}