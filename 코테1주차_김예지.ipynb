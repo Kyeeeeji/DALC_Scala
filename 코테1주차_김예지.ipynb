{
  "nbformat": 4,
  "nbformat_minor": 0,
  "metadata": {
    "colab": {
      "name": "코테1주차_김예지.ipynb",
      "provenance": [],
      "collapsed_sections": [],
      "toc_visible": true,
      "authorship_tag": "ABX9TyP7MWbP9ioWcs3gM+uIvZ/D",
      "include_colab_link": true
    },
    "kernelspec": {
      "name": "python3",
      "display_name": "Python 3"
    }
  },
  "cells": [
    {
      "cell_type": "markdown",
      "metadata": {
        "id": "view-in-github",
        "colab_type": "text"
      },
      "source": [
        "<a href=\"https://colab.research.google.com/github/Kyeeeeji/DALC_Scala/blob/main/%EC%BD%94%ED%85%8C1%EC%A3%BC%EC%B0%A8_%EA%B9%80%EC%98%88%EC%A7%80.ipynb\" target=\"_parent\"><img src=\"https://colab.research.google.com/assets/colab-badge.svg\" alt=\"Open In Colab\"/></a>"
      ]
    },
    {
      "cell_type": "markdown",
      "metadata": {
        "id": "r9PtDurcfnsW"
      },
      "source": [
        "# 2. 프로그래밍 언어 선택"
      ]
    },
    {
      "cell_type": "markdown",
      "metadata": {
        "id": "ZOWvykgdjkFb"
      },
      "source": [
        "## 리스트 2-1 수도코드(Pseudocode) 예제  \r\n",
        "### 53p\r\n"
      ]
    },
    {
      "cell_type": "code",
      "metadata": {
        "id": "kskHtv6lg32V",
        "colab": {
          "base_uri": "https://localhost:8080/",
          "height": 134
        },
        "outputId": "da6c77c5-f8e7-4712-adc6-b707a98048f0"
      },
      "source": [
        "함수 fizzbuzz()\r\n",
        "  for i=1 to 100\r\n",
        "    print_number = True\r\n",
        "\r\n",
        "    if i is 3으로 나눌 수 있다면\r\n",
        "      print \"Fizz\"\r\n",
        "      print_number = False\r\n",
        "\r\n",
        "    if i is 5로 나눌 수 있다면\r\n",
        "      print \"Buzz\"\r\n",
        "      print_number = False\r\n",
        "\r\n",
        "    if print_number = True\r\n",
        "      print i\r\n",
        "      \r\n",
        "    print 빈 줄"
      ],
      "execution_count": 1,
      "outputs": [
        {
          "output_type": "error",
          "ename": "SyntaxError",
          "evalue": "ignored",
          "traceback": [
            "\u001b[0;36m  File \u001b[0;32m\"<ipython-input-1-58324357d1b3>\"\u001b[0;36m, line \u001b[0;32m1\u001b[0m\n\u001b[0;31m    함수 fizzbuzz()\u001b[0m\n\u001b[0m              ^\u001b[0m\n\u001b[0;31mSyntaxError\u001b[0m\u001b[0;31m:\u001b[0m invalid syntax\n"
          ]
        }
      ]
    },
    {
      "cell_type": "markdown",
      "metadata": {
        "id": "wFyxjaSckl7y"
      },
      "source": [
        "## 루프(1부터 10까지의 합 구하기)  \r\n",
        "### 56p  \r\n"
      ]
    },
    {
      "cell_type": "code",
      "metadata": {
        "id": "hNdFIh6Kk69k"
      },
      "source": [
        "# 예시1\r\n",
        "sum = 0\r\n",
        "for i in range (1, 10+1):\r\n",
        "  sum += i"
      ],
      "execution_count": 2,
      "outputs": []
    },
    {
      "cell_type": "code",
      "metadata": {
        "id": "rPLy0hUylcor",
        "colab": {
          "base_uri": "https://localhost:8080/",
          "height": 186
        },
        "outputId": "dae27b94-771d-409c-9624-7d2c581c463f"
      },
      "source": [
        "# 예시2\r\n",
        "sum = sum(i for i in range(1, 10+1))"
      ],
      "execution_count": 3,
      "outputs": [
        {
          "output_type": "error",
          "ename": "TypeError",
          "evalue": "ignored",
          "traceback": [
            "\u001b[0;31m---------------------------------------------------------------------------\u001b[0m",
            "\u001b[0;31mTypeError\u001b[0m                                 Traceback (most recent call last)",
            "\u001b[0;32m<ipython-input-3-38635a3ccd93>\u001b[0m in \u001b[0;36m<module>\u001b[0;34m()\u001b[0m\n\u001b[1;32m      1\u001b[0m \u001b[0;31m# 예시2\u001b[0m\u001b[0;34m\u001b[0m\u001b[0;34m\u001b[0m\u001b[0;34m\u001b[0m\u001b[0m\n\u001b[0;32m----> 2\u001b[0;31m \u001b[0msum\u001b[0m \u001b[0;34m=\u001b[0m \u001b[0msum\u001b[0m\u001b[0;34m(\u001b[0m\u001b[0mi\u001b[0m \u001b[0;32mfor\u001b[0m \u001b[0mi\u001b[0m \u001b[0;32min\u001b[0m \u001b[0mrange\u001b[0m\u001b[0;34m(\u001b[0m\u001b[0;36m1\u001b[0m\u001b[0;34m,\u001b[0m \u001b[0;36m10\u001b[0m\u001b[0;34m+\u001b[0m\u001b[0;36m1\u001b[0m\u001b[0;34m)\u001b[0m\u001b[0;34m)\u001b[0m\u001b[0;34m\u001b[0m\u001b[0;34m\u001b[0m\u001b[0m\n\u001b[0m",
            "\u001b[0;31mTypeError\u001b[0m: 'int' object is not callable"
          ]
        }
      ]
    },
    {
      "cell_type": "code",
      "metadata": {
        "id": "cH45kOkIqv41",
        "colab": {
          "base_uri": "https://localhost:8080/",
          "height": 186
        },
        "outputId": "ea56624e-defc-4440-e697-83193bd3499e"
      },
      "source": [
        "# 예시3\r\n",
        "sum = sum(range(1, 10+1))"
      ],
      "execution_count": 4,
      "outputs": [
        {
          "output_type": "error",
          "ename": "TypeError",
          "evalue": "ignored",
          "traceback": [
            "\u001b[0;31m---------------------------------------------------------------------------\u001b[0m",
            "\u001b[0;31mTypeError\u001b[0m                                 Traceback (most recent call last)",
            "\u001b[0;32m<ipython-input-4-9681473a704e>\u001b[0m in \u001b[0;36m<module>\u001b[0;34m()\u001b[0m\n\u001b[1;32m      1\u001b[0m \u001b[0;31m# 예시3\u001b[0m\u001b[0;34m\u001b[0m\u001b[0;34m\u001b[0m\u001b[0;34m\u001b[0m\u001b[0m\n\u001b[0;32m----> 2\u001b[0;31m \u001b[0msum\u001b[0m \u001b[0;34m=\u001b[0m \u001b[0msum\u001b[0m\u001b[0;34m(\u001b[0m\u001b[0mrange\u001b[0m\u001b[0;34m(\u001b[0m\u001b[0;36m1\u001b[0m\u001b[0;34m,\u001b[0m \u001b[0;36m10\u001b[0m\u001b[0;34m+\u001b[0m\u001b[0;36m1\u001b[0m\u001b[0;34m)\u001b[0m\u001b[0;34m)\u001b[0m\u001b[0;34m\u001b[0m\u001b[0;34m\u001b[0m\u001b[0m\n\u001b[0m",
            "\u001b[0;31mTypeError\u001b[0m: 'int' object is not callable"
          ]
        }
      ]
    },
    {
      "cell_type": "markdown",
      "metadata": {
        "id": "n46J4yGvq_Bq"
      },
      "source": [
        "## 제네릭 프로그래밍  \r\n",
        "### 58p  \r\n"
      ]
    },
    {
      "cell_type": "code",
      "metadata": {
        "colab": {
          "base_uri": "https://localhost:8080/"
        },
        "id": "NmlI4bKRruP6",
        "outputId": "c2272e09-4b4e-4834-f892-f7fe42113a60"
      },
      "source": [
        "def are_equal(a, b):\r\n",
        "  return a == b\r\n",
        "\r\n",
        "are_equal(10, 10.0)"
      ],
      "execution_count": 5,
      "outputs": [
        {
          "output_type": "execute_result",
          "data": {
            "text/plain": [
              "True"
            ]
          },
          "metadata": {
            "tags": []
          },
          "execution_count": 5
        }
      ]
    },
    {
      "cell_type": "code",
      "metadata": {
        "colab": {
          "base_uri": "https://localhost:8080/"
        },
        "id": "WDfu4zbjsBOI",
        "outputId": "e5c9998e-f288-4d6e-a030-47c2cbed035a"
      },
      "source": [
        "# Dynamic Typing 언어라 제네릭이 필요없으나 가독성을 위해 타입을 명시할 수 있다. 3장 76p\r\n",
        "from typing import TypeVar\r\n",
        "\r\n",
        "T = TypeVar('T')\r\n",
        "U = TypeVar('U')\r\n",
        "\r\n",
        "def are_equal(a: T, b: U) -> bool:\r\n",
        "   return a == b\r\n",
        "\r\n",
        "are_equal(10,10.0)"
      ],
      "execution_count": 6,
      "outputs": [
        {
          "output_type": "execute_result",
          "data": {
            "text/plain": [
              "True"
            ]
          },
          "metadata": {
            "tags": []
          },
          "execution_count": 6
        }
      ]
    },
    {
      "cell_type": "markdown",
      "metadata": {
        "id": "RD1PQTJOtCrJ"
      },
      "source": [
        "## 배열 반복(문자열 배열(list)를 반복하면서 엘리먼트 출력)  \r\n",
        "### 60p  \r\n",
        "\r\n"
      ]
    },
    {
      "cell_type": "code",
      "metadata": {
        "colab": {
          "base_uri": "https://localhost:8080/"
        },
        "id": "IDC7H3CLuPxg",
        "outputId": "f034c52e-04cb-4066-e430-f780082bf6c2"
      },
      "source": [
        "foo = ['A', 'B', 'C']\r\n",
        "for f in foo:\r\n",
        "   print(f)"
      ],
      "execution_count": 7,
      "outputs": [
        {
          "output_type": "stream",
          "text": [
            "A\n",
            "B\n",
            "C\n"
          ],
          "name": "stdout"
        }
      ]
    },
    {
      "cell_type": "markdown",
      "metadata": {
        "id": "p67on8rsu_0o"
      },
      "source": [
        "## 구조체  \r\n",
        "### 61p~62p  \r\n"
      ]
    },
    {
      "cell_type": "code",
      "metadata": {
        "id": "_-a-G6e1u6iU"
      },
      "source": [
        "from collections import namedtuple\r\n",
        "MyStruct = namedtuple(\"MyStruct\", \"field1 field2 field3\")\r\n",
        "m = MyStruct(\"foo\", \"bar\", \"baz\")\r\n",
        "\r\n",
        "# 파이썬에는 구조체가 없고 클래스도 데이터 타입을 지정할 수 없어 namedtuple로 정의함"
      ],
      "execution_count": 8,
      "outputs": []
    },
    {
      "cell_type": "code",
      "metadata": {
        "id": "8yma94d0v9pS"
      },
      "source": [
        "# python 3.7+\r\n",
        "from dataclasses import dataclass\r\n",
        "\r\n",
        "@dataclass\r\n",
        "class Product:\r\n",
        "    weight: int = None\r\n",
        "    price: float = None\r\n",
        "\r\n",
        "apple = Product()\r\n",
        "apple.price = 10\r\n",
        "\r\n",
        "# python 3.7 부터는 dataclass를 지원\r\n",
        "# @dataclass 데코레이션으로 타입 힌트와 함께 활용함으로써 구조체 형태로 정의할 수 있음\r\n",
        "# 초기화함수 지원, 출력 시 읽기 쉬운 포맷으로 출력\r\n",
        "# 3.6 이하 버전에서도 Backport 버전을 제공하므로 $pip install dataclasses 로 설치해 사용할 수 있다."
      ],
      "execution_count": 9,
      "outputs": []
    },
    {
      "cell_type": "markdown",
      "metadata": {
        "id": "edLilhy6x32S"
      },
      "source": [
        "## 클래스  \r\n",
        "### 64p~65p  \r\n"
      ]
    },
    {
      "cell_type": "code",
      "metadata": {
        "colab": {
          "base_uri": "https://localhost:8080/"
        },
        "id": "nc__NnaEyDva",
        "outputId": "10e50474-e5ad-4dc5-aff3-a3f889546db3"
      },
      "source": [
        "from dataclasses import dataclass\r\n",
        "\r\n",
        "@dataclass\r\n",
        "class Rectangle:\r\n",
        "    width: int\r\n",
        "    height: int\r\n",
        "\r\n",
        "    def area(self):\r\n",
        "        return self.width * self.height\r\n",
        "\r\n",
        "rect = Rectangle(3, 4)\r\n",
        "print(rect.area())\r\n",
        "\r\n",
        "# 실무에서는 자주 쓰이는데 코테에서는 잘 안 쓰인다.\r\n",
        "# @dataclass 선언은 필수는 아니지만 여러 내부함수 기능도 자동으로 구현해줘서 편리함"
      ],
      "execution_count": 10,
      "outputs": [
        {
          "output_type": "stream",
          "text": [
            "12\n"
          ],
          "name": "stdout"
        }
      ]
    },
    {
      "cell_type": "markdown",
      "metadata": {
        "id": "f5h5HqBM2afT"
      },
      "source": [
        "## 인덴트  \r\n",
        "### 76p~77p  \r\n"
      ]
    },
    {
      "cell_type": "code",
      "metadata": {
        "id": "YKXBJFq62o3E",
        "colab": {
          "base_uri": "https://localhost:8080/",
          "height": 239
        },
        "outputId": "e16d7574-da7b-44e2-f784-a553d436e4ec"
      },
      "source": [
        "foo = long_function_name(var_one, var_two,\r\n",
        "                         var_three, var_four)\r\n",
        "# 첫번째 줄에 파라미터가 있으면 파라미터가 시작되는 부분에 보기 좋게\r\n",
        "\r\n",
        "def long_function_name(\r\n",
        "        var_one, var_two, var_three, \r\n",
        "        var_four):\r\n",
        "    print(var_one)\r\n",
        "# 없으면 공백 4칸 인덴트를 한 번 더 추가해 다른 행과 구분\r\n",
        "\r\n",
        "foo = long_function_name(\r\n",
        "    var_one, var_two,\r\n",
        "    var_three, var_four)\r\n",
        "# 여러 줄로 나워쓸 경우 다음 행과 구분되도록 인덴트 추가"
      ],
      "execution_count": 11,
      "outputs": [
        {
          "output_type": "error",
          "ename": "NameError",
          "evalue": "ignored",
          "traceback": [
            "\u001b[0;31m---------------------------------------------------------------------------\u001b[0m",
            "\u001b[0;31mNameError\u001b[0m                                 Traceback (most recent call last)",
            "\u001b[0;32m<ipython-input-11-84bce669659c>\u001b[0m in \u001b[0;36m<module>\u001b[0;34m()\u001b[0m\n\u001b[0;32m----> 1\u001b[0;31m foo = long_function_name(var_one, var_two,\n\u001b[0m\u001b[1;32m      2\u001b[0m                          var_three, var_four)\n\u001b[1;32m      3\u001b[0m \u001b[0;31m# 첫번째 줄에 파라미터가 있으면 파라미터가 시작되는 부분에 보기 좋게\u001b[0m\u001b[0;34m\u001b[0m\u001b[0;34m\u001b[0m\u001b[0;34m\u001b[0m\u001b[0m\n\u001b[1;32m      4\u001b[0m \u001b[0;34m\u001b[0m\u001b[0m\n\u001b[1;32m      5\u001b[0m def long_function_name(\n",
            "\u001b[0;31mNameError\u001b[0m: name 'long_function_name' is not defined"
          ]
        }
      ]
    },
    {
      "cell_type": "markdown",
      "metadata": {
        "id": "h0fn_oii4MhY"
      },
      "source": [
        "## 타입힌트  \r\n",
        "### 79p~80p  \r\n"
      ]
    },
    {
      "cell_type": "code",
      "metadata": {
        "id": "jsXWmuOu5fLI"
      },
      "source": [
        "a: str = \"1\"\r\n",
        "b: int = 1\r\n",
        "\r\n",
        "# 대표적 동적 타이핑 언어임에도 PEP 484 문서에 타입을 지정하는 Type Hint 추가됨"
      ],
      "execution_count": null,
      "outputs": []
    },
    {
      "cell_type": "code",
      "metadata": {
        "id": "mNC0lCvm59WE"
      },
      "source": [
        "# def fn(a):\r\n",
        "# 처럼 표기하면 빠르나 가독성 떨어지며 오류 발생할 수 있음. 입출력값 유형 알 수 없음. 따라서\r\n",
        "# def fn(a: int) -> bool:\r\n",
        "# 와 같이 입출력값의 유형을 알 수 있음. \r\n",
        "a: str = 1\r\n",
        "type(a)"
      ],
      "execution_count": null,
      "outputs": []
    },
    {
      "cell_type": "code",
      "metadata": {
        "id": "CDrP3KtO6wE6"
      },
      "source": [
        "# 그러나 위와 같이 문자열에 정수를 할당하는 식의 사용은 지양해야 함. 강제 규약이 아니다 보니 동적으로 할당될 수 있음.\r\n",
        "# 온라인 코테에서는 $ pip install mypy 로 mypy를 설치해 타입 힌트 오류 점검할 수 있다. "
      ],
      "execution_count": null,
      "outputs": []
    },
    {
      "cell_type": "code",
      "metadata": {
        "id": "sCr16mPY7Gpz"
      },
      "source": [
        "# $ pip install mypy\r\n",
        "# $ mypy solution.py\r\n",
        "# 타입 힌트가 잘못 지정되면 Incompatible return value type 오류가 발생함."
      ],
      "execution_count": null,
      "outputs": []
    },
    {
      "cell_type": "markdown",
      "metadata": {
        "id": "alNB08X68eHd"
      },
      "source": [
        "## 리스트 컴프리헨션(기존 list를 기반으로 새 list 생성)  \r\n",
        "### 80p~81p"
      ]
    },
    {
      "cell_type": "code",
      "metadata": {
        "id": "h9nzeXGI7gco"
      },
      "source": [
        "list(map(lambda x: x + 10, [1, 2, 3]))\r\n",
        "# map, filter와 같은 함수형 기능을 지원하며 위와 같은 람다 표현식도 지원."
      ],
      "execution_count": null,
      "outputs": []
    },
    {
      "cell_type": "code",
      "metadata": {
        "id": "M_IlLZAr8ocF"
      },
      "source": [
        "# 리스트 컴프리헨션 사용하면\r\n",
        "[n * 2 for n in range(1, 10 + 1) if n % 2 == 1]"
      ],
      "execution_count": null,
      "outputs": []
    },
    {
      "cell_type": "code",
      "metadata": {
        "id": "Pne7xGde9d9l"
      },
      "source": [
        "# 리스트 컴프리헨션 사용하지 않으면\r\n",
        "\r\n",
        "a = []\r\n",
        "for n in range(1, 10 + 1):\r\n",
        "    if n % 2 == 1:\r\n",
        "        a.append(n * 2)\r\n",
        "        \r\n",
        "a\r\n",
        "# 길고, a라는 별도의 리스트 변수 추가됨."
      ],
      "execution_count": null,
      "outputs": []
    },
    {
      "cell_type": "code",
      "metadata": {
        "id": "bEXqkmiS9eer"
      },
      "source": [
        "# 버전 2.7 이후에는 리스트 외에도 딕셔너리 등도 가능\r\n",
        "a = {key: value for key, value in original.items()}\r\n",
        "\r\n",
        "# 기존 정의 코드\r\n",
        "a = {}\r\n",
        "for key, value in original.items():\r\n",
        "    a[key] = value\r\n",
        "\r\n",
        "# 표현식이 2개를 넘으면 가독성 떨어짐"
      ],
      "execution_count": null,
      "outputs": []
    },
    {
      "cell_type": "markdown",
      "metadata": {
        "id": "cqrjOad1-Xgo"
      },
      "source": [
        "## 제너레이터(루프의 반복Iteration 동작을 제어할 수 있는 루틴 형태)  \r\n",
        "### 82p~83p"
      ]
    },
    {
      "cell_type": "code",
      "metadata": {
        "id": "rD7ojald-QCv"
      },
      "source": [
        "# 기존 함수는 return 구문을 만나면 값을 반환하고 동작을 종료했음\r\n",
        "# yield 구문으로 제너레이터를 리턴할 수 있음(실행 중이던 값 양보?)\r\n",
        "# 중간값 반환 후 함수는 끝까지 실행됨\r\n",
        "\r\n",
        "def get_natural_number():\r\n",
        "    n = 0\r\n",
        "    while True:\r\n",
        "        n += 1\r\n",
        "        yield n\r\n",
        "\r\n",
        "get_natural_number()\r\n",
        "\r\n",
        "# 이 경우처럼 while True 구문은 종료 조건이 없으므로 계속해서 값을 내보낼 수 있다\r\n",
        "# 반환값이 제너레이터"
      ],
      "execution_count": null,
      "outputs": []
    },
    {
      "cell_type": "code",
      "metadata": {
        "id": "ze3aa1rb_8_r"
      },
      "source": [
        "# 다음 값은 next() 추출해 생성함\r\n",
        "\r\n",
        "g = get_natural_number()\r\n",
        "for _ in range(0,100):\r\n",
        "    print(next(g))"
      ],
      "execution_count": null,
      "outputs": []
    },
    {
      "cell_type": "code",
      "metadata": {
        "id": "6Jlt7COnASEF"
      },
      "source": [
        "def generator():\r\n",
        "    yield 1\r\n",
        "    yield 'string'\r\n",
        "    yield True\r\n",
        "g = generator()\r\n",
        "g\r\n",
        "\r\n",
        "# 여러 타입의 값을 하나의 함수에서 생성하는 것도 가능"
      ],
      "execution_count": null,
      "outputs": []
    },
    {
      "cell_type": "code",
      "metadata": {
        "id": "tDe8pmiiAopA"
      },
      "source": [
        "next(g)"
      ],
      "execution_count": null,
      "outputs": []
    },
    {
      "cell_type": "code",
      "metadata": {
        "id": "AGtQAGabAtCW"
      },
      "source": [
        "next(g)"
      ],
      "execution_count": null,
      "outputs": []
    },
    {
      "cell_type": "code",
      "metadata": {
        "id": "eiQY-cA7Atri"
      },
      "source": [
        "next(g)"
      ],
      "execution_count": null,
      "outputs": []
    },
    {
      "cell_type": "markdown",
      "metadata": {
        "id": "XXuhJwyAAwWY"
      },
      "source": [
        "## range\r\n",
        "### 83p~84p"
      ]
    },
    {
      "cell_type": "code",
      "metadata": {
        "id": "xEQAJeHzAuem"
      },
      "source": [
        "# 제너레이터 방식을 활용하는 대표적 함수\r\n",
        "# 주로 for문에서\r\n",
        "\r\n",
        "\r\n",
        "list(range(5))"
      ],
      "execution_count": null,
      "outputs": []
    },
    {
      "cell_type": "code",
      "metadata": {
        "id": "0APYeYrmBIgt"
      },
      "source": [
        "range(0,5)"
      ],
      "execution_count": null,
      "outputs": []
    },
    {
      "cell_type": "code",
      "metadata": {
        "id": "9rOP2VS-BQM8"
      },
      "source": [
        "type(range(5))\r\n",
        "\r\n",
        "# 책에서는 <class 'range'>"
      ],
      "execution_count": null,
      "outputs": []
    },
    {
      "cell_type": "code",
      "metadata": {
        "id": "F5v--ZKDBSvW"
      },
      "source": [
        "for i in range(5):\r\n",
        "    print(i, end= '')"
      ],
      "execution_count": null,
      "outputs": []
    },
    {
      "cell_type": "code",
      "metadata": {
        "id": "s8HcGRcEBf9O"
      },
      "source": [
        "# range()는 range 클래스를 반환하며 for문에서 사용될 때는 내부적으로 제너레이터의 next()를 호출하듯 다음 숫자 생성\r\n",
        "# 제너레이터 반환하듯 range 클래스만 리턴하면 숫자 100만개 생성하는 것도 무리가 없다.\r\n",
        "# 생성조건만 정해두고 필요할 때 꺼내서 씀\r\n",
        "\r\n",
        "a = [n for n in range(1000000)]\r\n",
        "b = range(1000000)"
      ],
      "execution_count": null,
      "outputs": []
    },
    {
      "cell_type": "code",
      "metadata": {
        "id": "x9W-JxZRCW1w"
      },
      "source": [
        "len(a)"
      ],
      "execution_count": null,
      "outputs": []
    },
    {
      "cell_type": "code",
      "metadata": {
        "id": "Fjrmfs5FCYfl"
      },
      "source": [
        "len(b)"
      ],
      "execution_count": null,
      "outputs": []
    },
    {
      "cell_type": "code",
      "metadata": {
        "id": "nhOREtjACbGd"
      },
      "source": [
        "len(a) == len(b)"
      ],
      "execution_count": null,
      "outputs": []
    },
    {
      "cell_type": "code",
      "metadata": {
        "id": "DcNuz_PMCd4j"
      },
      "source": [
        "b"
      ],
      "execution_count": null,
      "outputs": []
    },
    {
      "cell_type": "code",
      "metadata": {
        "id": "xisuWl40Cm_h"
      },
      "source": [
        "type(b)"
      ],
      "execution_count": null,
      "outputs": []
    },
    {
      "cell_type": "code",
      "metadata": {
        "id": "yb46nR0cCpu4"
      },
      "source": [
        "sys.getsizeof(a)"
      ],
      "execution_count": null,
      "outputs": []
    },
    {
      "cell_type": "code",
      "metadata": {
        "id": "YZOHyBYwCrZC"
      },
      "source": [
        "sys.getsizeof(b)\r\n",
        "# 에러가 나는데 책에서는 a 8697464, b 48\r\n",
        "# a에는 이미 생성된 값이 담겨 있고, b에는 생성 조건이 담겨 있다"
      ],
      "execution_count": null,
      "outputs": []
    },
    {
      "cell_type": "code",
      "metadata": {
        "id": "MuZwhf3zDGP4"
      },
      "source": [
        "b[999]\r\n",
        "\r\n",
        "# 인덱스에 접근함과 동시에 값을 생성하므로 list와 거의 동일하게 사용 가능함"
      ],
      "execution_count": null,
      "outputs": []
    },
    {
      "cell_type": "markdown",
      "metadata": {
        "id": "zgSIDTx2DR0i"
      },
      "source": [
        "## enumerate  \r\n",
        "### 85p"
      ]
    },
    {
      "cell_type": "code",
      "metadata": {
        "id": "9w8DOEe0DG_r"
      },
      "source": [
        "# 열거하다. 순서가 있는 자료형(list, set, tuple, etc)을 인덱스를 포함한 enumerate 객체로 반환\r\n",
        "\r\n",
        "a = [1,2,3,2,45,2,5]\r\n",
        "a"
      ],
      "execution_count": null,
      "outputs": []
    },
    {
      "cell_type": "code",
      "metadata": {
        "id": "_hyPXuFfD4zO"
      },
      "source": [
        "enumerate(a)"
      ],
      "execution_count": null,
      "outputs": []
    },
    {
      "cell_type": "code",
      "metadata": {
        "colab": {
          "base_uri": "https://localhost:8080/",
          "height": 204
        },
        "id": "51UhZAoUD-AO",
        "outputId": "a69bde2f-1489-4e21-e9d2-3be59c9d71d9"
      },
      "source": [
        "list(enumerate(a))\r\n",
        "\r\n",
        "# list()로 결과 추출, 인덱스 자동 부여여여"
      ],
      "execution_count": 12,
      "outputs": [
        {
          "output_type": "error",
          "ename": "NameError",
          "evalue": "ignored",
          "traceback": [
            "\u001b[0;31m---------------------------------------------------------------------------\u001b[0m",
            "\u001b[0;31mNameError\u001b[0m                                 Traceback (most recent call last)",
            "\u001b[0;32m<ipython-input-12-24ddb3fbb66e>\u001b[0m in \u001b[0;36m<module>\u001b[0;34m()\u001b[0m\n\u001b[0;32m----> 1\u001b[0;31m \u001b[0mlist\u001b[0m\u001b[0;34m(\u001b[0m\u001b[0menumerate\u001b[0m\u001b[0;34m(\u001b[0m\u001b[0ma\u001b[0m\u001b[0;34m)\u001b[0m\u001b[0;34m)\u001b[0m\u001b[0;34m\u001b[0m\u001b[0;34m\u001b[0m\u001b[0m\n\u001b[0m\u001b[1;32m      2\u001b[0m \u001b[0;34m\u001b[0m\u001b[0m\n\u001b[1;32m      3\u001b[0m \u001b[0;31m# list()로 결과 추출, 인덱스 자동 부여여여\u001b[0m\u001b[0;34m\u001b[0m\u001b[0;34m\u001b[0m\u001b[0;34m\u001b[0m\u001b[0m\n",
            "\u001b[0;31mNameError\u001b[0m: name 'a' is not defined"
          ]
        }
      ]
    },
    {
      "cell_type": "code",
      "metadata": {
        "colab": {
          "base_uri": "https://localhost:8080/"
        },
        "id": "zbcyWdgCEArX",
        "outputId": "12a6a6e3-37f2-4274-b202-5ad2b411ed2f"
      },
      "source": [
        "# a = ['a1', 'b2', 'c3']가 있을 때 list의 인덱스와 값을 함께 출력하려면?\r\n",
        "\r\n",
        "a = ['a1', 'b2', 'c3']\r\n",
        "for i in range(len(a)):\r\n",
        "    print(i, a[i])\r\n",
        "# a[i] 조회 작업은 불필요. 전체 길이를 조회해 루프를 처리해 깔끔하지 않음"
      ],
      "execution_count": 13,
      "outputs": [
        {
          "output_type": "stream",
          "text": [
            "0 a1\n",
            "1 b2\n",
            "2 c3\n"
          ],
          "name": "stdout"
        }
      ]
    },
    {
      "cell_type": "code",
      "metadata": {
        "colab": {
          "base_uri": "https://localhost:8080/"
        },
        "id": "P6WLf51REdNm",
        "outputId": "443dd3fb-2e8f-4886-dedd-cd69e1bf7c52"
      },
      "source": [
        "i = 0\r\n",
        "for v in a:\r\n",
        "    print(i, v)\r\n",
        "    i += 1\r\n",
        "# 값은 깔끔하게 처리하나 인덱스를 위한 변수가 별도로 존재해 불편"
      ],
      "execution_count": 14,
      "outputs": [
        {
          "output_type": "stream",
          "text": [
            "0 a1\n",
            "1 b2\n",
            "2 c3\n"
          ],
          "name": "stdout"
        }
      ]
    },
    {
      "cell_type": "code",
      "metadata": {
        "colab": {
          "base_uri": "https://localhost:8080/"
        },
        "id": "r8ehr7P_E1I1",
        "outputId": "889ee250-ad12-4908-b720-a0b1ec0652f0"
      },
      "source": [
        "for i, v in enumerate(a):\r\n",
        "    print(i, v)"
      ],
      "execution_count": 15,
      "outputs": [
        {
          "output_type": "stream",
          "text": [
            "0 a1\n",
            "1 b2\n",
            "2 c3\n"
          ],
          "name": "stdout"
        }
      ]
    },
    {
      "cell_type": "markdown",
      "metadata": {
        "id": "qzWrgsBDFKli"
      },
      "source": [
        "## //나눗셈 연산자\r\n",
        "### 86p~87p"
      ]
    },
    {
      "cell_type": "code",
      "metadata": {
        "colab": {
          "base_uri": "https://localhost:8080/"
        },
        "id": "ddzR9fhnFDq0",
        "outputId": "ae8db887-3c4d-4d3b-c08f-27b3075eb760"
      },
      "source": [
        "# 파이썬 2 이하에서 기본 연산자 /는 타입을 유지하는 특성 때문에 \r\n",
        "# 5/3을 입력하면 1 반환했음\r\n",
        "\r\n",
        "#파이썬 3+\r\n",
        "5/3"
      ],
      "execution_count": 16,
      "outputs": [
        {
          "output_type": "execute_result",
          "data": {
            "text/plain": [
              "1.6666666666666667"
            ]
          },
          "metadata": {
            "tags": []
          },
          "execution_count": 16
        }
      ]
    },
    {
      "cell_type": "code",
      "metadata": {
        "colab": {
          "base_uri": "https://localhost:8080/"
        },
        "id": "NkJLd_QdGtHa",
        "outputId": "e9bdae5e-473b-4ebc-8b5c-fb126f6950e8"
      },
      "source": [
        "# PEP 238에서 동작 방식이 변경되면서 기존의 /를 //가 대체\r\n",
        "# 내림Floor Division 연산자, 몫Quotient을 구하는 연산자\r\n",
        "\r\n",
        "type(5/3)"
      ],
      "execution_count": 17,
      "outputs": [
        {
          "output_type": "execute_result",
          "data": {
            "text/plain": [
              "float"
            ]
          },
          "metadata": {
            "tags": []
          },
          "execution_count": 17
        }
      ]
    },
    {
      "cell_type": "code",
      "metadata": {
        "colab": {
          "base_uri": "https://localhost:8080/"
        },
        "id": "cIfXqasSHpdi",
        "outputId": "98b86415-caa4-4b5a-ee34-4bc7811433f3"
      },
      "source": [
        "int(5/3)"
      ],
      "execution_count": 18,
      "outputs": [
        {
          "output_type": "execute_result",
          "data": {
            "text/plain": [
              "1"
            ]
          },
          "metadata": {
            "tags": []
          },
          "execution_count": 18
        }
      ]
    },
    {
      "cell_type": "code",
      "metadata": {
        "colab": {
          "base_uri": "https://localhost:8080/"
        },
        "id": "dx1OnmMxHrvH",
        "outputId": "2e578451-53e6-4684-fb81-836672917531"
      },
      "source": [
        "type(int(5/3))"
      ],
      "execution_count": 19,
      "outputs": [
        {
          "output_type": "execute_result",
          "data": {
            "text/plain": [
              "int"
            ]
          },
          "metadata": {
            "tags": []
          },
          "execution_count": 19
        }
      ]
    },
    {
      "cell_type": "code",
      "metadata": {
        "colab": {
          "base_uri": "https://localhost:8080/"
        },
        "id": "jgptJE0xHuYq",
        "outputId": "d8a1496d-de6a-4605-a8bc-6d15fbcb0c5e"
      },
      "source": [
        "# 나머지Remainder를 구하는 모듈로modulo 연산자는 %\r\n",
        "5%3"
      ],
      "execution_count": 20,
      "outputs": [
        {
          "output_type": "execute_result",
          "data": {
            "text/plain": [
              "2"
            ]
          },
          "metadata": {
            "tags": []
          },
          "execution_count": 20
        }
      ]
    },
    {
      "cell_type": "code",
      "metadata": {
        "id": "vCVUFXziIYJS",
        "colab": {
          "base_uri": "https://localhost:8080/"
        },
        "outputId": "554b5886-d0d8-406e-a2b5-c532e76d90e8"
      },
      "source": [
        "# 몫과 나머지를 동시에 구할 때 몫과 나머지를 동시에 구할 때\r\n",
        "divmod(5,3)"
      ],
      "execution_count": 21,
      "outputs": [
        {
          "output_type": "execute_result",
          "data": {
            "text/plain": [
              "(1, 2)"
            ]
          },
          "metadata": {
            "tags": []
          },
          "execution_count": 21
        }
      ]
    },
    {
      "cell_type": "markdown",
      "metadata": {
        "id": "ocOoFgGMIvRL"
      },
      "source": [
        "## print \r\n",
        "### 87p~88p"
      ]
    },
    {
      "cell_type": "code",
      "metadata": {
        "id": "NFBL1LxwI3qo"
      },
      "source": [
        "# 코테 풀이 디버깅할 때 가장 많이 사용\r\n",
        "# 실무에서는 디버거나 TDD 방식 등으로 디버깅"
      ],
      "execution_count": 22,
      "outputs": []
    },
    {
      "cell_type": "code",
      "metadata": {
        "colab": {
          "base_uri": "https://localhost:8080/"
        },
        "id": "1M9sBWsIJLX5",
        "outputId": "6f2f8e74-bc8d-4844-8370-08c77d2976f7"
      },
      "source": [
        "print('A1', 'B2')\r\n",
        "# 콤마로 구분, 한 칸 공백이 디폴트"
      ],
      "execution_count": 23,
      "outputs": [
        {
          "output_type": "stream",
          "text": [
            "A1 B2\n"
          ],
          "name": "stdout"
        }
      ]
    },
    {
      "cell_type": "code",
      "metadata": {
        "colab": {
          "base_uri": "https://localhost:8080/"
        },
        "id": "djMLpxIGJS6K",
        "outputId": "e50e469a-71c1-41dc-dad3-bedafcb3e67b"
      },
      "source": [
        "print('A1', 'B2', sep = ',')\r\n",
        "# sep 파라미터로 구분자를 콤마로 지정"
      ],
      "execution_count": 24,
      "outputs": [
        {
          "output_type": "stream",
          "text": [
            "A1,B2\n"
          ],
          "name": "stdout"
        }
      ]
    },
    {
      "cell_type": "code",
      "metadata": {
        "colab": {
          "base_uri": "https://localhost:8080/"
        },
        "id": "t6BH8hB6JhNj",
        "outputId": "b3f7ee93-a5ab-43b5-e8d8-df3b02defe29"
      },
      "source": [
        "print('aa', end = ' ')\r\n",
        "print('bb')\r\n",
        "# 항상 줄바꿈을 하기 때문에 루프 값을 반복적으로 출력하면 디버깅에 어려움"
      ],
      "execution_count": 25,
      "outputs": [
        {
          "output_type": "stream",
          "text": [
            "aa bb\n"
          ],
          "name": "stdout"
        }
      ]
    },
    {
      "cell_type": "code",
      "metadata": {
        "colab": {
          "base_uri": "https://localhost:8080/"
        },
        "id": "UHMN8hw-Jymx",
        "outputId": "82b6e3e1-edf2-4579-f60b-4807ec2a8d80"
      },
      "source": [
        "a = ['A', 'B']\r\n",
        "print(' '.join(a))\r\n",
        "#list 출력할 때는 join()으로 묶어서 처리"
      ],
      "execution_count": 26,
      "outputs": [
        {
          "output_type": "stream",
          "text": [
            "A B\n"
          ],
          "name": "stdout"
        }
      ]
    },
    {
      "cell_type": "code",
      "metadata": {
        "id": "cHir6Bz5KChb"
      },
      "source": [
        "idx = 1\r\n",
        "fruit = \"Apple\"\r\n",
        "\r\n",
        "# idx에 1을 더해 fruit와 함께 출력하는 방법?"
      ],
      "execution_count": 27,
      "outputs": []
    },
    {
      "cell_type": "code",
      "metadata": {
        "colab": {
          "base_uri": "https://localhost:8080/"
        },
        "id": "BIHM7q0QKTnx",
        "outputId": "cfa0d842-0dca-46b1-cb6c-ca5cb6bd0041"
      },
      "source": [
        "print('{0}: {1}'.format(idx + 1, fruit))\r\n",
        "# 인덱스와 같이"
      ],
      "execution_count": 28,
      "outputs": [
        {
          "output_type": "stream",
          "text": [
            "2: Apple\n"
          ],
          "name": "stdout"
        }
      ]
    },
    {
      "cell_type": "code",
      "metadata": {
        "colab": {
          "base_uri": "https://localhost:8080/"
        },
        "id": "PHGtEluPKaQR",
        "outputId": "bc0b17cb-d53a-4f30-ddc2-bf3701a98e64"
      },
      "source": [
        "print('{}: {}'.format(idx + 1, fruit))\r\n",
        "# 인덱스 생략 가능"
      ],
      "execution_count": 29,
      "outputs": [
        {
          "output_type": "stream",
          "text": [
            "2: Apple\n"
          ],
          "name": "stdout"
        }
      ]
    },
    {
      "cell_type": "code",
      "metadata": {
        "colab": {
          "base_uri": "https://localhost:8080/"
        },
        "id": "boH9dXEHKnMl",
        "outputId": "924571cc-b79e-4541-ffab-e9a903505157"
      },
      "source": [
        "# 파이썬 3.6+\r\n",
        "# 뒤에 변수 부착할 필요, %나 format 없이 간결하게 인라인으로\r\n",
        "print(f'{idx + 1}: {fruit}')"
      ],
      "execution_count": 30,
      "outputs": [
        {
          "output_type": "stream",
          "text": [
            "2: Apple\n"
          ],
          "name": "stdout"
        }
      ]
    },
    {
      "cell_type": "markdown",
      "metadata": {
        "id": "PjKRrPCXLH-8"
      },
      "source": [
        "## pass  \r\n",
        "### 89p"
      ]
    },
    {
      "cell_type": "code",
      "metadata": {
        "id": "WYCbcvV0LFEy",
        "colab": {
          "base_uri": "https://localhost:8080/",
          "height": 134
        },
        "outputId": "05d338ef-a67c-4cde-dfbc-11d53cf6e497"
      },
      "source": [
        "class MyClass(object):\r\n",
        "    def method_a(self):\r\n",
        "\r\n",
        "    def method_b(self):\r\n",
        "        print(\"Method B\")\r\n",
        "\r\n",
        "c = MyClass()\r\n",
        "\r\n",
        "# IndentationError: expected an indented block\r\n",
        "# method_a 가 아무런 처리도 하지 않았기 때문에"
      ],
      "execution_count": 31,
      "outputs": [
        {
          "output_type": "error",
          "ename": "IndentationError",
          "evalue": "ignored",
          "traceback": [
            "\u001b[0;36m  File \u001b[0;32m\"<ipython-input-31-b26e762d661e>\"\u001b[0;36m, line \u001b[0;32m4\u001b[0m\n\u001b[0;31m    def method_b(self):\u001b[0m\n\u001b[0m      ^\u001b[0m\n\u001b[0;31mIndentationError\u001b[0m\u001b[0;31m:\u001b[0m expected an indented block\n"
          ]
        }
      ]
    },
    {
      "cell_type": "code",
      "metadata": {
        "id": "KJgl5OusEYI-"
      },
      "source": [
        "class MyClass(object):\r\n",
        "    def method_a(self):\r\n",
        "        # 여기에 pass 추가\r\n",
        "        pass\r\n",
        "\r\n",
        "    def method_b(self):\r\n",
        "        print(\"Method B\")\r\n",
        "\r\n",
        "c = MyClass()\r\n",
        "\r\n",
        "# pass는 널null 연산으로 아무것도 하지 않는 기능"
      ],
      "execution_count": null,
      "outputs": []
    },
    {
      "cell_type": "markdown",
      "metadata": {
        "id": "9b3bzCgIFJIE"
      },
      "source": [
        "## locals(로컬 심볼 테이블 딕셔너리)  \r\n",
        "### 90p"
      ]
    },
    {
      "cell_type": "code",
      "metadata": {
        "id": "G16e2g9XFu6C"
      },
      "source": [
        "# 로컬에 선언된 모든 변수를 조회할 수 있음\r\n",
        "# 로컬 스코프에 제한해 조회하므로\r\n",
        "# 클래스의 특정 메소드 내부 혹은 함수 내부의 로컬 정보를 조회해\r\n",
        "# 잘못 선언하지 않았는지 확인할 수 있다\r\n",
        "import pprint\r\n",
        "pprint.pprint(locals())\r\n",
        "\r\n",
        "# pprint는 보기 좋게 줄바꿈 처리함\r\n",
        "# 클래스 메소드 내의 모든 로컬 변수 출력"
      ],
      "execution_count": null,
      "outputs": []
    },
    {
      "cell_type": "markdown",
      "metadata": {
        "id": "j1IMtEHqHFvw"
      },
      "source": [
        "## 변수명과 주석  \r\n",
        "### 92p~93p"
      ]
    },
    {
      "cell_type": "code",
      "metadata": {
        "id": "d6PA0znxGoFB"
      },
      "source": [
        "def numMatchingSubseq(self, S:str, words: List[str]) -> int:\r\n",
        "    a = 0\r\n",
        "\r\n",
        "    for b in words:\r\n",
        "        c = 0\r\n",
        "        for i in range(len(b)):\r\n",
        "            d = S[c:].find(b[i])\r\n",
        "            if d < 0:\r\n",
        "                a -= 1\r\n",
        "                break\r\n",
        "            else:\r\n",
        "                c += d + 1\r\n",
        "        a += 1\r\n",
        "    return a\r\n",
        "\r\n",
        "# 문자열에 매칭된 서브 시퀀스의 개수를 구하는 코드\r\n",
        "# 주석 없이, 변수 아무렇게나\r\n",
        "# 변수와 코드 동작방식 파악 어려움"
      ],
      "execution_count": null,
      "outputs": []
    },
    {
      "cell_type": "code",
      "metadata": {
        "id": "K2jS-D7gIeJV"
      },
      "source": [
        "def numMatchingSubseq(self, S: str, words: List[str]) -> int:\r\n",
        "    matched_count = 0\r\n",
        "\r\n",
        "    for word in words:\r\n",
        "       #Find matching position for each character.\r\n",
        "       found_pos = S[pos:].find(word[i])\r\n",
        "       if found_pos < 0:\r\n",
        "           matched_count -= 1\r\n",
        "           break\r\n",
        "       else: #If found, take step position forward.\r\n",
        "           pos += found_pos + 1\r\n",
        "    matched_count += 1\r\n",
        "\r\n",
        "return matched_count\r\n",
        "\r\n",
        "# 의미가 있으며 카멜케이스 아닌 스네이크케이스로 작성된 이름\r\n",
        "# 자세한 주석\r\n",
        "# 함수명은 카멜 케이스인데 리트코드 문제에 주어진 함수명이라 변경하지 못했음"
      ],
      "execution_count": null,
      "outputs": []
    },
    {
      "cell_type": "markdown",
      "metadata": {
        "id": "KUblvFxVJUJy"
      },
      "source": [
        "## 리스트 컴프리헨션  \r\n",
        "### 94p~95p"
      ]
    },
    {
      "cell_type": "code",
      "metadata": {
        "id": "qFCrt5jlJeeW"
      },
      "source": [
        "# 문법과 의미를 축약하는 특징 탓에 가독성이 떨어지기도 함\r\n",
        "str1s = [str1[i:i + 2].lower() for i in range(len(str1) - 1) if re.findall('[a-z]{2}', str1[i:i+2].lower())]"
      ],
      "execution_count": null,
      "outputs": []
    },
    {
      "cell_type": "code",
      "metadata": {
        "id": "-zFpHLmYKCyt"
      },
      "source": [
        "# 역할에 따라 줄바꿈\r\n",
        "str1s = [\r\n",
        "         str1[i:i + 2].lower() for i in range(len(str1) - 1) \r\n",
        "         if re.findall('[a-z]{2}', str1[i:i+2].lower())\r\n",
        "]\r\n",
        "\r\n",
        "# 표현식이 2개를 넘지 않으며 라인을 여유있게 활용하였으나 가독성 여전히 낮음"
      ],
      "execution_count": null,
      "outputs": []
    },
    {
      "cell_type": "code",
      "metadata": {
        "id": "1BANLJLwKlV9"
      },
      "source": [
        "str1s = []\r\n",
        "for i in range(len(str1) - 1):\r\n",
        "    if re.findall('[a-z]{2}', str1[i:i+2].lower()):\r\n",
        "        str1s.append(str1[i:i+2].lower())\r\n",
        "\r\n",
        "# 다 풀어서 쓴 코드\r\n",
        "# 코드를 정방향으로 읽을 수 있어 가독성 나쁘지 않음"
      ],
      "execution_count": null,
      "outputs": []
    },
    {
      "cell_type": "code",
      "metadata": {
        "id": "lXQrscVwLZ8A"
      },
      "source": [
        "return [(x,y,z)\r\n",
        "        for x in range(5)\r\n",
        "        for y in range(5)\r\n",
        "        if x != y\r\n",
        "        for z in rnage(5)\r\n",
        "        if y != z]\r\n",
        "\r\n",
        "# 여러 표현식을 여러 줄에 걸쳐 표현\r\n",
        "# 가독성 떨어짐"
      ],
      "execution_count": null,
      "outputs": []
    },
    {
      "cell_type": "markdown",
      "metadata": {
        "id": "WaToYIAYLli3"
      },
      "source": [
        "## 구글 파이썬 스타일 가이드  \r\n",
        "### 95p~96p"
      ]
    },
    {
      "cell_type": "code",
      "metadata": {
        "id": "aazHYwHCLlRb"
      },
      "source": [
        "# 파이썬 공식 가이드 PEP 외의 구글에서 지정한 스타일 가이드\r\n",
        "# 가독성을 높이기 위한 지침 있음\r\n",
        "\r\n",
        "# 기본 값으로 가변 객체를 사용하지 말 것\r\n",
        "# 함수가 객체를 수정하면 기본값이 변경되기 때문에\r\n",
        "No: def foo(a, b=[]):\r\n",
        "No: def foo(a, b: Mappong = {}):\r\n",
        "# 위와 같이 기본값으로 파이썬 공식 가이드 PEP 외의 구글에서 지정한 스타일 가이드\r\n",
        "# 가독성을 높이기 위한 지침 있음\r\n",
        "\r\n",
        "# 기본 값으로 가변 객체를 사용하지 말 것\r\n",
        "# 함수가 객체를 수정하면 기본값이 변경되기 때문에\r\n",
        "No: def foo(a, b=[]):\r\n",
        "No: def foo(a, b: Mappong = {}):\r\n",
        " 파이썬 공식 가이드 PEP 외의 구글에서 지정한 스타일 가이드\r\n",
        "# 가독성을 높이기 위한 지침 있음\r\n",
        "\r\n",
        "# 기본 값으로 가변 객체를 사용하지 말 것\r\n",
        "# 함수가 객체를 수정하면 기본값이 변경되기 때문에\r\n",
        "No: def foo(a, b=[]):\r\n",
        "No: def foo(a, b: Mappong = {}):\r\n",
        "# 위와 같이 기본값으로 []나 {}는 지양"
      ],
      "execution_count": null,
      "outputs": []
    },
    {
      "cell_type": "code",
      "metadata": {
        "id": "ZW-KYX8XUwp-"
      },
      "source": [
        "Yes: def foo(a, b=None):\r\n",
        "         if b is None:\r\n",
        "             b = []\r\n",
        "Yes: def foo(a, b: Optional[Sequence] = None):\r\n",
        "         if b is None:\r\n",
        "             b = []\r\n",
        "\r\n",
        "# 불변 객체를 사용\r\n",
        "# None을 명시적으로 할당당"
      ],
      "execution_count": null,
      "outputs": []
    },
    {
      "cell_type": "code",
      "metadata": {
        "id": "BYjKCdACVEKF"
      },
      "source": [
        "# True, False를 판별할 때는 암시적인 방법을 사용\r\n",
        "# F임을 표현할 때 if foo != []: 가 아닌 if foo: 로도 충분\r\n",
        "\r\n",
        "Yes: if not users:\r\n",
        "         print('no users')\r\n",
        "\r\n",
        "     if foo == 0:  # 비교대상 정수값을 직접 비교\r\n",
        "         self.handle_zero()\r\n",
        "\r\n",
        "     if i % 10 == 0:  # 명시적으로 값 비교\r\n",
        "         self.handle_multiple_of_ten()\r\n",
        "\r\n",
        "No: if len(users) == 0:  # 길이가 없음은 값이 없음을 의미, Yes의 not users로 충분\r\n",
        "        print('no users')\r\n",
        "\r\n",
        "    if foo is not None and not foo:  # 암시적 거짓 여부로 판별하는 것은 위험, 가독성 떨어짐\r\n",
        "        self.handle_zero()\r\n",
        "\r\n",
        "    if not i % 10:\r\n",
        "        self.handle_multiple_of_ten()\r\n",
        "\r\n",
        "# 이외에도 세미콜론으로 줄을 끝내서는 안 되며\r\n",
        "# 세미콜론을 이용해 같은 줄에 두 문장을 써서도 안 된다\r\n",
        "# 최대 줄 길이는 80자"
      ],
      "execution_count": null,
      "outputs": []
    },
    {
      "cell_type": "markdown",
      "metadata": {
        "id": "1UgOAD2FX-Wx"
      },
      "source": [
        "## 파이썬 철학  \r\n",
        "### 97p"
      ]
    },
    {
      "cell_type": "code",
      "metadata": {
        "id": "PaRGken9XQzo"
      },
      "source": [
        "import this"
      ],
      "execution_count": null,
      "outputs": []
    },
    {
      "cell_type": "markdown",
      "metadata": {
        "id": "pMxXYVOsYJws"
      },
      "source": [
        "## 빅오  \r\n",
        "### 102p"
      ]
    },
    {
      "cell_type": "code",
      "metadata": {
        "id": "dxhV0WLuYQfL"
      },
      "source": [
        "# 컴퓨터과학에서 빅오는 입력값이 커질 때 알고리즘의 실행 시간(시간 복잡도)와 함께\r\n",
        "# 공간 요구사항(공간 복잡도)이 어떻게 증가하는지 분류\r\n",
        "# 알고리즘 효율성 분석하는 데에 유용\r\n",
        "\r\n",
        "# 입력값이 무한대로 향할 때 함수의 상한을 설명하는 수학적 표기 방법\r\n",
        "# 점근적 실행 시간을 표기할 때 가장 널리 쓰이는 수학적 표기법 중 하나\r\n",
        "# 점근적 실행 시간: 입력값 n이 무한대로 향할 때 lim 함수의 실행 시간 추이\r\n",
        "# 복잡한 알고리즘도 입력값이 작으면 처리 빠름\r\n",
        "# 시간 복잡도: 어떤 알고리즘을 수행하는 데 걸리느 시간을 설명하는 계산 복잡도\r\n",
        "# 이 계산 복잡도를 표기하는 대표적 방법이 빅오\r\n",
        "\r\n",
        "# 최고차항만을 표기, 상수항은 무시\r\n",
        "# 4n^2+2n 이 있으면 n^2만을 고려\r\n",
        "\r\n",
        "# O(1) : 실행시간 입력값과 관계없이 일정\r\n",
        "# O(log n) : 크게 영향 받지 않고 견고. 이진 검색\r\n",
        "# O(n) : 입력값만큼 실행 간에 영향 받음, 선형 시간 알고리즘이라고 부름\r\n",
        "# O(n log n) : 병합 정렬을 비롯한 대부분의 효율 좋은 정렬 알고리즘.\r\n",
        "# O(n^2) : 버블 정렬 따위의 비효율적 정렬 알고리즘\r\n",
        "# O(2^n) : 피보나치 수를 재귀로 계산, n^2보다 훨씬 큼(복잡도 높음)\r\n",
        "# O(n!) : 각 도시를 방문하고 돌아오는 가장 짧은 경로를 찾는 외판원 문제를 브루트 포스로 풀이\r\n",
        "#         가장 느린 알고리즘"
      ],
      "execution_count": null,
      "outputs": []
    },
    {
      "cell_type": "code",
      "metadata": {
        "id": "xRDV53ZXbdeq"
      },
      "source": [
        "for n in range(1, 15 + 1):\r\n",
        "  print(n, n ** 2, 2 ** n)\r\n",
        "\r\n",
        "# n^2과 2^n 차이"
      ],
      "execution_count": null,
      "outputs": []
    },
    {
      "cell_type": "code",
      "metadata": {
        "id": "cLD_RsyNcStD"
      },
      "source": [
        "# 알고리즘은 시간과 공간이 트레이드오프 관계\r\n",
        "# 실행 시간이 빠르면 공간을 많이 차지, 공간을 적게 차지하면 실행시간이 느림"
      ],
      "execution_count": null,
      "outputs": []
    },
    {
      "cell_type": "markdown",
      "metadata": {
        "id": "IRPRM228dM8F"
      },
      "source": [
        "## 자료형-숫자  \r\n",
        "### 108p"
      ]
    },
    {
      "cell_type": "code",
      "metadata": {
        "id": "czAAtE6ed_Id"
      },
      "source": [
        "# 파이썬에서는 정수형으로 int만을 제공\r\n",
        "# bool은 엄밀히 논리 자료형이나 파이썬 내부에서는 int의 서브클래스"
      ],
      "execution_count": null,
      "outputs": []
    },
    {
      "cell_type": "code",
      "metadata": {
        "id": "SM6GD-72dVSI"
      },
      "source": [
        "True == 1"
      ],
      "execution_count": null,
      "outputs": []
    },
    {
      "cell_type": "code",
      "metadata": {
        "id": "KKGo3u-kdf1w"
      },
      "source": [
        "False == 0"
      ],
      "execution_count": null,
      "outputs": []
    },
    {
      "cell_type": "markdown",
      "metadata": {
        "id": "G-FEVKuCX3ZP"
      },
      "source": [
        "## 집합  \r\n",
        "### 110p~111p"
      ]
    },
    {
      "cell_type": "code",
      "metadata": {
        "id": "fy3TTa0cXSnU"
      },
      "source": [
        "a = set()\r\n",
        "a\r\n",
        "\r\n",
        "# 값이 포함된 집합은 a = {1,2,3} 형태로 선언\r\n",
        "# 딕셔너리와 동일하게 {} 사용하나 키/값 형태로 구분"
      ],
      "execution_count": null,
      "outputs": []
    },
    {
      "cell_type": "code",
      "metadata": {
        "colab": {
          "base_uri": "https://localhost:8080/"
        },
        "id": "VrICVjePe0zq",
        "outputId": "5102102f-094c-438e-f6bc-4f2279a04013"
      },
      "source": [
        "type(a)"
      ],
      "execution_count": 32,
      "outputs": [
        {
          "output_type": "execute_result",
          "data": {
            "text/plain": [
              "list"
            ]
          },
          "metadata": {
            "tags": []
          },
          "execution_count": 32
        }
      ]
    },
    {
      "cell_type": "code",
      "metadata": {
        "colab": {
          "base_uri": "https://localhost:8080/"
        },
        "id": "cCeRUHO3fCsx",
        "outputId": "d555d3f7-b939-45fd-9396-953ab66e05b9"
      },
      "source": [
        "a = {'a', 'b', 'c'}\r\n",
        "type(a)"
      ],
      "execution_count": 33,
      "outputs": [
        {
          "output_type": "execute_result",
          "data": {
            "text/plain": [
              "set"
            ]
          },
          "metadata": {
            "tags": []
          },
          "execution_count": 33
        }
      ]
    },
    {
      "cell_type": "code",
      "metadata": {
        "colab": {
          "base_uri": "https://localhost:8080/"
        },
        "id": "x2vWUlDhfexF",
        "outputId": "b90bbd69-31bd-4c4a-bbc2-9b9a40c47152"
      },
      "source": [
        "a = {'a':'A', 'b':'B', 'c':'C'}\r\n",
        "type(a)\r\n",
        "\r\n",
        "# 파이썬 컴파일러가 타입 자동 결정"
      ],
      "execution_count": 34,
      "outputs": [
        {
          "output_type": "execute_result",
          "data": {
            "text/plain": [
              "dict"
            ]
          },
          "metadata": {
            "tags": []
          },
          "execution_count": 34
        }
      ]
    },
    {
      "cell_type": "code",
      "metadata": {
        "colab": {
          "base_uri": "https://localhost:8080/"
        },
        "id": "bAkh5GvXfh3l",
        "outputId": "46541f3a-51f3-4c57-c3ce-b23fa4beaaa1"
      },
      "source": [
        "a = {3,2,3,5}\r\n",
        "a\r\n",
        "\r\n",
        "# set은 입력 순서 유지되지 않음, 중복된 값은 하나만 유지"
      ],
      "execution_count": 35,
      "outputs": [
        {
          "output_type": "execute_result",
          "data": {
            "text/plain": [
              "{2, 3, 5}"
            ]
          },
          "metadata": {
            "tags": []
          },
          "execution_count": 35
        }
      ]
    },
    {
      "cell_type": "markdown",
      "metadata": {
        "id": "iT6x0m-af1Z_"
      },
      "source": [
        "## 시퀀스  \r\n",
        "### 111p"
      ]
    },
    {
      "cell_type": "code",
      "metadata": {
        "colab": {
          "base_uri": "https://localhost:8080/"
        },
        "id": "Wxm9bwIefw2f",
        "outputId": "179fa99a-bf88-4b07-9b85-b70de6bbecf2"
      },
      "source": [
        "# 우리말로 수열 같은 의미\r\n",
        "# 특정 대상의 순서 있는 나열\r\n",
        "# str은 문자의 순서 있는 나열\r\n",
        "# list는 다양한 값들을 배열 형태의 순서 있는 나열로 구성하는 자료형, 사실상 배열의 역할\r\n",
        "\r\n",
        "# 불변과 가변으로 분류정 대상의 순서 있는 나열\r\n",
        "# str은 문자의 순서 있는 나열\r\n",
        "# list는 다양한 값들을 배열 형태의 순서 있는 나열로 구성하는 자료형, 사실상 배열의 역할\r\n",
        "\r\n",
        "# 불변(str, tuple, bytes)과 가변으로 분류\r\n",
        "\r\n",
        "a = 'abc'\r\n",
        "a = 'def'\r\n",
        "type(a)\r\n",
        "\r\n",
        "# 변경된 것처럼 보이지만 아님"
      ],
      "execution_count": 36,
      "outputs": [
        {
          "output_type": "execute_result",
          "data": {
            "text/plain": [
              "str"
            ]
          },
          "metadata": {
            "tags": []
          },
          "execution_count": 36
        }
      ]
    },
    {
      "cell_type": "code",
      "metadata": {
        "colab": {
          "base_uri": "https://localhost:8080/"
        },
        "id": "t16r94ggjL3C",
        "outputId": "2348db8b-f8a4-41db-98c5-4d5d2ef09e1e"
      },
      "source": [
        "a = 'abc'\r\n",
        "id('abc')"
      ],
      "execution_count": 37,
      "outputs": [
        {
          "output_type": "execute_result",
          "data": {
            "text/plain": [
              "140295703198832"
            ]
          },
          "metadata": {
            "tags": []
          },
          "execution_count": 37
        }
      ]
    },
    {
      "cell_type": "code",
      "metadata": {
        "colab": {
          "base_uri": "https://localhost:8080/"
        },
        "id": "yc-CQ_QujMp7",
        "outputId": "d423624c-42d8-4a5d-db90-36647c04d3d4"
      },
      "source": [
        "id(a)"
      ],
      "execution_count": 38,
      "outputs": [
        {
          "output_type": "execute_result",
          "data": {
            "text/plain": [
              "140295703198832"
            ]
          },
          "metadata": {
            "tags": []
          },
          "execution_count": 38
        }
      ]
    },
    {
      "cell_type": "code",
      "metadata": {
        "colab": {
          "base_uri": "https://localhost:8080/"
        },
        "id": "93a3YekKjPfP",
        "outputId": "1e70e36b-5c2d-4585-f131-a8776b4554ef"
      },
      "source": [
        "a = 'def'\r\n",
        "id('def')"
      ],
      "execution_count": 39,
      "outputs": [
        {
          "output_type": "execute_result",
          "data": {
            "text/plain": [
              "140295702343408"
            ]
          },
          "metadata": {
            "tags": []
          },
          "execution_count": 39
        }
      ]
    },
    {
      "cell_type": "code",
      "metadata": {
        "colab": {
          "base_uri": "https://localhost:8080/"
        },
        "id": "Ol0Eez_YjlnH",
        "outputId": "d8fb16e6-ef03-43ef-b84a-d0c8f3408372"
      },
      "source": [
        "id(a)\r\n",
        "# 메모리에는 'abc'와 'def'에 각기 저장되어 있으나 a 변수가 어디를 참조하는지가 바뀜"
      ],
      "execution_count": 40,
      "outputs": [
        {
          "output_type": "execute_result",
          "data": {
            "text/plain": [
              "140295702343408"
            ]
          },
          "metadata": {
            "tags": []
          },
          "execution_count": 40
        }
      ]
    },
    {
      "cell_type": "code",
      "metadata": {
        "colab": {
          "base_uri": "https://localhost:8080/",
          "height": 222
        },
        "id": "zxjirHzTjntH",
        "outputId": "9ac25dd2-1bac-4e30-d7c8-98889baa2af0"
      },
      "source": [
        "a[1] = 'd'\r\n",
        "\r\n",
        "# 각 원소에 엑세스할 수 없음\r\n",
        "# 정말 변경된다면 이 할당자가 처리되어야 함"
      ],
      "execution_count": 41,
      "outputs": [
        {
          "output_type": "error",
          "ename": "TypeError",
          "evalue": "ignored",
          "traceback": [
            "\u001b[0;31m---------------------------------------------------------------------------\u001b[0m",
            "\u001b[0;31mTypeError\u001b[0m                                 Traceback (most recent call last)",
            "\u001b[0;32m<ipython-input-41-7c61e418806d>\u001b[0m in \u001b[0;36m<module>\u001b[0;34m()\u001b[0m\n\u001b[0;32m----> 1\u001b[0;31m \u001b[0ma\u001b[0m\u001b[0;34m[\u001b[0m\u001b[0;36m1\u001b[0m\u001b[0;34m]\u001b[0m \u001b[0;34m=\u001b[0m \u001b[0;34m'd'\u001b[0m\u001b[0;34m\u001b[0m\u001b[0;34m\u001b[0m\u001b[0m\n\u001b[0m\u001b[1;32m      2\u001b[0m \u001b[0;34m\u001b[0m\u001b[0m\n\u001b[1;32m      3\u001b[0m \u001b[0;31m# 각 원소에 엑세스할 수 없음\u001b[0m\u001b[0;34m\u001b[0m\u001b[0;34m\u001b[0m\u001b[0;34m\u001b[0m\u001b[0m\n\u001b[1;32m      4\u001b[0m \u001b[0;31m# 정말 변경된다면 이 할당자가 처리되어야 함\u001b[0m\u001b[0;34m\u001b[0m\u001b[0;34m\u001b[0m\u001b[0;34m\u001b[0m\u001b[0m\n",
            "\u001b[0;31mTypeError\u001b[0m: 'str' object does not support item assignment"
          ]
        }
      ]
    },
    {
      "cell_type": "markdown",
      "metadata": {
        "id": "NM4MXBnqk7TI"
      },
      "source": [
        "## 불변 객체  \r\n",
        "### 116p"
      ]
    },
    {
      "cell_type": "code",
      "metadata": {
        "id": "jqDj1F5AkIHq"
      },
      "source": [
        "# 파이썬은 모든 것이 객체\r\n",
        "# 변수를 할당하는 것은 해당 객체를 변수가 참조한다는 것\r\n",
        "# 문자와 숫자도 모두 객체이나 이 둘은 불변 객체\r\n",
        "\r\n",
        "10\r\n",
        "a = 10\r\n",
        "b = a\r\n",
        "id(10), id(a), id(b)\r\n",
        "\r\n",
        "# 모두 원시 타입이라면 id 달라야 하는데 모두 같다.\r\n",
        "# 10이 11로 바뀌는 일은 없고, a가 11이 된다면 그냥 더이상 10을 참조하지 않을 뿐이다\r\n",
        "# 문자와 숫자, tuple은 불변이라 dict다의 key나 set의 값으로 사용 가능하다\r\n",
        "# list는 언제든 값이 변할 수 있으므로 안 됨"
      ],
      "execution_count": null,
      "outputs": []
    },
    {
      "cell_type": "markdown",
      "metadata": {
        "id": "J--WC-bYl_-2"
      },
      "source": [
        "## 가변 객체  \r\n",
        "### 116p~117p"
      ]
    },
    {
      "cell_type": "code",
      "metadata": {
        "colab": {
          "base_uri": "https://localhost:8080/"
        },
        "id": "ejuuUhEjlRt_",
        "outputId": "74698ee1-01d4-49d1-c0c4-805627187d5b"
      },
      "source": [
        "a = [1, 2, 3, 4, 5]\r\n",
        "b = a\r\n",
        "b"
      ],
      "execution_count": 42,
      "outputs": [
        {
          "output_type": "execute_result",
          "data": {
            "text/plain": [
              "[1, 2, 3, 4, 5]"
            ]
          },
          "metadata": {
            "tags": []
          },
          "execution_count": 42
        }
      ]
    },
    {
      "cell_type": "code",
      "metadata": {
        "colab": {
          "base_uri": "https://localhost:8080/"
        },
        "id": "scCHE79NmOsg",
        "outputId": "177d1250-4762-4d27-daa0-b88bc88f9fa8"
      },
      "source": [
        "a[2] = 4\r\n",
        "a"
      ],
      "execution_count": 43,
      "outputs": [
        {
          "output_type": "execute_result",
          "data": {
            "text/plain": [
              "[1, 2, 4, 4, 5]"
            ]
          },
          "metadata": {
            "tags": []
          },
          "execution_count": 43
        }
      ]
    },
    {
      "cell_type": "code",
      "metadata": {
        "colab": {
          "base_uri": "https://localhost:8080/"
        },
        "id": "JIaY8qyKmRWV",
        "outputId": "138860d4-ca05-4521-edc2-3820404bf56a"
      },
      "source": [
        "b\r\n",
        "\r\n",
        "# 변수 a로써 list에 엑세스해 값을 변경할 수 있음"
      ],
      "execution_count": 44,
      "outputs": [
        {
          "output_type": "execute_result",
          "data": {
            "text/plain": [
              "[1, 2, 4, 4, 5]"
            ]
          },
          "metadata": {
            "tags": []
          },
          "execution_count": 44
        }
      ]
    },
    {
      "cell_type": "code",
      "metadata": {
        "colab": {
          "base_uri": "https://localhost:8080/"
        },
        "id": "K23kwGm5mVdV",
        "outputId": "89491b7e-36ad-4ada-d76e-b21ef809fccc"
      },
      "source": [
        "a = 10\r\n",
        "b = a\r\n",
        "id(a), id(b)"
      ],
      "execution_count": 45,
      "outputs": [
        {
          "output_type": "execute_result",
          "data": {
            "text/plain": [
              "(94607402793760, 94607402793760)"
            ]
          },
          "metadata": {
            "tags": []
          },
          "execution_count": 45
        }
      ]
    },
    {
      "cell_type": "code",
      "metadata": {
        "colab": {
          "base_uri": "https://localhost:8080/"
        },
        "id": "CsIoNqeFnDAG",
        "outputId": "0c13fd0a-93f7-448d-8a38-430ad2a26e4f"
      },
      "source": [
        "b = 7\r\n",
        "a, id(a), id(b)"
      ],
      "execution_count": 46,
      "outputs": [
        {
          "output_type": "execute_result",
          "data": {
            "text/plain": [
              "(10, 94607402793760, 94607402793664)"
            ]
          },
          "metadata": {
            "tags": []
          },
          "execution_count": 46
        }
      ]
    },
    {
      "cell_type": "code",
      "metadata": {
        "id": "ZPJAWvIOnIwf"
      },
      "source": [
        "a = [1, 2, 3]\r\n",
        "b = a"
      ],
      "execution_count": 47,
      "outputs": []
    },
    {
      "cell_type": "code",
      "metadata": {
        "colab": {
          "base_uri": "https://localhost:8080/"
        },
        "id": "4bLIJE_onT6H",
        "outputId": "3ecf1ee8-ce1b-43a5-8df2-fd534a641df9"
      },
      "source": [
        "id(a), id(b)"
      ],
      "execution_count": 48,
      "outputs": [
        {
          "output_type": "execute_result",
          "data": {
            "text/plain": [
              "(140295145653024, 140295145653024)"
            ]
          },
          "metadata": {
            "tags": []
          },
          "execution_count": 48
        }
      ]
    },
    {
      "cell_type": "code",
      "metadata": {
        "colab": {
          "base_uri": "https://localhost:8080/"
        },
        "id": "xQA_QmhPnZC-",
        "outputId": "cf4ff7e1-24c6-4c3d-ccbb-1b3360de2546"
      },
      "source": [
        "b[2] = 5\r\n",
        "a, id(a), id(b)"
      ],
      "execution_count": 49,
      "outputs": [
        {
          "output_type": "execute_result",
          "data": {
            "text/plain": [
              "([1, 2, 5], 140295145653024, 140295145653024)"
            ]
          },
          "metadata": {
            "tags": []
          },
          "execution_count": 49
        }
      ]
    },
    {
      "cell_type": "markdown",
      "metadata": {
        "id": "Q-5MLDMcnq2E"
      },
      "source": [
        "## is와 ==  \r\n",
        "### 118p"
      ]
    },
    {
      "cell_type": "code",
      "metadata": {
        "id": "BxCA_VxRnh2c"
      },
      "source": [
        "# is는 id()값을 비교하는 함수\r\n",
        "\r\n",
        "if a is None:\r\n",
        "    pass\r\n",
        "\r\n",
        "# None은 null로 값 자체가 정의되지 않으므로 ==로 비교할 수 없음"
      ],
      "execution_count": 50,
      "outputs": []
    },
    {
      "cell_type": "code",
      "metadata": {
        "colab": {
          "base_uri": "https://localhost:8080/"
        },
        "id": "qhLAOkG9n_y1",
        "outputId": "a7e858c7-a76b-4916-9c7c-ac6c43fb088a"
      },
      "source": [
        "a = [1, 2, 3]\r\n",
        "a == a"
      ],
      "execution_count": 51,
      "outputs": [
        {
          "output_type": "execute_result",
          "data": {
            "text/plain": [
              "True"
            ]
          },
          "metadata": {
            "tags": []
          },
          "execution_count": 51
        }
      ]
    },
    {
      "cell_type": "code",
      "metadata": {
        "colab": {
          "base_uri": "https://localhost:8080/"
        },
        "id": "sp0Wb7eho4ui",
        "outputId": "78f6bb9a-62b6-4a99-fe91-d816331c8794"
      },
      "source": [
        "a == list(a)"
      ],
      "execution_count": 52,
      "outputs": [
        {
          "output_type": "execute_result",
          "data": {
            "text/plain": [
              "True"
            ]
          },
          "metadata": {
            "tags": []
          },
          "execution_count": 52
        }
      ]
    },
    {
      "cell_type": "code",
      "metadata": {
        "colab": {
          "base_uri": "https://localhost:8080/"
        },
        "id": "UDMCn7nQo9Uu",
        "outputId": "f89b63e6-b2ad-41b0-f2d0-d7dc12b677cd"
      },
      "source": [
        "a is a"
      ],
      "execution_count": 53,
      "outputs": [
        {
          "output_type": "execute_result",
          "data": {
            "text/plain": [
              "True"
            ]
          },
          "metadata": {
            "tags": []
          },
          "execution_count": 53
        }
      ]
    },
    {
      "cell_type": "code",
      "metadata": {
        "colab": {
          "base_uri": "https://localhost:8080/"
        },
        "id": "Hibq6IcAo-fY",
        "outputId": "80ac7548-a446-4a78-d3aa-03a4451e2ab8"
      },
      "source": [
        "a is list(a)\r\n",
        "\r\n",
        "# 값은 동일하지만 list()로 한 번 더 묶어주면 별도의 객체로 복사됨\r\n",
        "# 즉 id가 다름"
      ],
      "execution_count": 54,
      "outputs": [
        {
          "output_type": "execute_result",
          "data": {
            "text/plain": [
              "False"
            ]
          },
          "metadata": {
            "tags": []
          },
          "execution_count": 54
        }
      ]
    },
    {
      "cell_type": "code",
      "metadata": {
        "colab": {
          "base_uri": "https://localhost:8080/"
        },
        "id": "lue1FhbLpE97",
        "outputId": "60334a61-4935-495b-c499-53a3b44cca80"
      },
      "source": [
        "import copy\r\n",
        "a = [1,2,3]\r\n",
        "a == copy.deepcopy(a)"
      ],
      "execution_count": 55,
      "outputs": [
        {
          "output_type": "execute_result",
          "data": {
            "text/plain": [
              "True"
            ]
          },
          "metadata": {
            "tags": []
          },
          "execution_count": 55
        }
      ]
    },
    {
      "cell_type": "code",
      "metadata": {
        "colab": {
          "base_uri": "https://localhost:8080/"
        },
        "id": "flkHCC_RpToR",
        "outputId": "695c7b22-bf32-4ac2-f8af-83148f4e6f99"
      },
      "source": [
        "a is copy.deepcopy(a)\r\n",
        "\r\n",
        "# deepcopy도 값은 같으나 id가 다름"
      ],
      "execution_count": 56,
      "outputs": [
        {
          "output_type": "execute_result",
          "data": {
            "text/plain": [
              "False"
            ]
          },
          "metadata": {
            "tags": []
          },
          "execution_count": 56
        }
      ]
    }
  ]
}