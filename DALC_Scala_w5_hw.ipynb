{
  "nbformat": 4,
  "nbformat_minor": 0,
  "metadata": {
    "colab": {
      "name": "DALC_Scala_w5_hw.ipynb",
      "provenance": [],
      "authorship_tag": "ABX9TyM0va7FFasn30Ks584LISa2",
      "include_colab_link": true
    },
    "kernelspec": {
      "name": "python3",
      "display_name": "Python 3"
    },
    "language_info": {
      "name": "python"
    }
  },
  "cells": [
    {
      "cell_type": "markdown",
      "metadata": {
        "id": "view-in-github",
        "colab_type": "text"
      },
      "source": [
        "<a href=\"https://colab.research.google.com/github/Kyeeeeji/DALC_Scalar/blob/main/DALC_Scala_w5_hw.ipynb\" target=\"_parent\"><img src=\"https://colab.research.google.com/assets/colab-badge.svg\" alt=\"Open In Colab\"/></a>"
      ]
    },
    {
      "cell_type": "markdown",
      "metadata": {
        "id": "Ol59vHTlomfx"
      },
      "source": [
        "### Matplotlib 소개와 사용법\n",
        "  \n",
        "파이썬에서 그래프 표시를 가능하게 해주는 대표적인 시각화라이브러리  \n",
        "다양한 os에서 사용되며, 다양한 포맷에서 그래프를 생성함  \n",
        "mpl,plt로 축약해서 부름  \n",
        "선 그림: 라인플롯  \n",
        "점 그림: 스캐터플롯  \n",
        "다중서브플롯: 여러개의 그림이 나란히 표현"
      ]
    },
    {
      "cell_type": "code",
      "metadata": {
        "colab": {
          "base_uri": "https://localhost:8080/",
          "height": 222
        },
        "id": "zhq0oO-Oof_0",
        "outputId": "553ef42f-a69f-414d-f7f3-f5c9dfa2da62"
      },
      "source": [
        "import matplotlib as mpl\n",
        "import matplotlib.pyplot as plt\n",
        "plt.savfig('my_figure.jpg')\n",
        "plt.style.use('classic') # 기본 설정"
      ],
      "execution_count": 2,
      "outputs": [
        {
          "output_type": "error",
          "ename": "AttributeError",
          "evalue": "ignored",
          "traceback": [
            "\u001b[0;31m---------------------------------------------------------------------------\u001b[0m",
            "\u001b[0;31mAttributeError\u001b[0m                            Traceback (most recent call last)",
            "\u001b[0;32m<ipython-input-2-2e897ccd2c8b>\u001b[0m in \u001b[0;36m<module>\u001b[0;34m()\u001b[0m\n\u001b[1;32m      1\u001b[0m \u001b[0;32mimport\u001b[0m \u001b[0mmatplotlib\u001b[0m \u001b[0;32mas\u001b[0m \u001b[0mmpl\u001b[0m\u001b[0;34m\u001b[0m\u001b[0;34m\u001b[0m\u001b[0m\n\u001b[1;32m      2\u001b[0m \u001b[0;32mimport\u001b[0m \u001b[0mmatplotlib\u001b[0m\u001b[0;34m.\u001b[0m\u001b[0mpyplot\u001b[0m \u001b[0;32mas\u001b[0m \u001b[0mplt\u001b[0m\u001b[0;34m\u001b[0m\u001b[0;34m\u001b[0m\u001b[0m\n\u001b[0;32m----> 3\u001b[0;31m \u001b[0mplt\u001b[0m\u001b[0;34m.\u001b[0m\u001b[0msavfig\u001b[0m\u001b[0;34m(\u001b[0m\u001b[0;34m'my_figure.jpg'\u001b[0m\u001b[0;34m)\u001b[0m\u001b[0;34m\u001b[0m\u001b[0;34m\u001b[0m\u001b[0m\n\u001b[0m\u001b[1;32m      4\u001b[0m \u001b[0mplt\u001b[0m\u001b[0;34m.\u001b[0m\u001b[0mstyle\u001b[0m\u001b[0;34m.\u001b[0m\u001b[0muse\u001b[0m\u001b[0;34m(\u001b[0m\u001b[0;34m'classic'\u001b[0m\u001b[0;34m)\u001b[0m \u001b[0;31m# 기본 설정\u001b[0m\u001b[0;34m\u001b[0m\u001b[0;34m\u001b[0m\u001b[0m\n",
            "\u001b[0;31mAttributeError\u001b[0m: module 'matplotlib.pyplot' has no attribute 'savfig'"
          ]
        }
      ]
    },
    {
      "cell_type": "code",
      "metadata": {
        "colab": {
          "base_uri": "https://localhost:8080/",
          "height": 310
        },
        "id": "vSaFuLTfpA6p",
        "outputId": "8de92531-9ff2-467b-ddb7-fef4f6aaa233"
      },
      "source": [
        "from google.colab import files\n",
        "files.download('my_figure.jpg') # 파일 다운로드"
      ],
      "execution_count": 3,
      "outputs": [
        {
          "output_type": "error",
          "ename": "FileNotFoundError",
          "evalue": "ignored",
          "traceback": [
            "\u001b[0;31m---------------------------------------------------------------------------\u001b[0m",
            "\u001b[0;31mFileNotFoundError\u001b[0m                         Traceback (most recent call last)",
            "\u001b[0;32m<ipython-input-3-389a6677c6a5>\u001b[0m in \u001b[0;36m<module>\u001b[0;34m()\u001b[0m\n\u001b[1;32m      1\u001b[0m \u001b[0;32mfrom\u001b[0m \u001b[0mgoogle\u001b[0m\u001b[0;34m.\u001b[0m\u001b[0mcolab\u001b[0m \u001b[0;32mimport\u001b[0m \u001b[0mfiles\u001b[0m\u001b[0;34m\u001b[0m\u001b[0;34m\u001b[0m\u001b[0m\n\u001b[0;32m----> 2\u001b[0;31m \u001b[0mfiles\u001b[0m\u001b[0;34m.\u001b[0m\u001b[0mdownload\u001b[0m\u001b[0;34m(\u001b[0m\u001b[0;34m'my_figure.jpg'\u001b[0m\u001b[0;34m)\u001b[0m \u001b[0;31m# 파일 다운로드\u001b[0m\u001b[0;34m\u001b[0m\u001b[0;34m\u001b[0m\u001b[0m\n\u001b[0m",
            "\u001b[0;32m/usr/local/lib/python3.7/dist-packages/google/colab/files.py\u001b[0m in \u001b[0;36mdownload\u001b[0;34m(filename)\u001b[0m\n\u001b[1;32m    141\u001b[0m       \u001b[0;32mraise\u001b[0m \u001b[0mOSError\u001b[0m\u001b[0;34m(\u001b[0m\u001b[0mmsg\u001b[0m\u001b[0;34m)\u001b[0m\u001b[0;34m\u001b[0m\u001b[0;34m\u001b[0m\u001b[0m\n\u001b[1;32m    142\u001b[0m     \u001b[0;32melse\u001b[0m\u001b[0;34m:\u001b[0m\u001b[0;34m\u001b[0m\u001b[0;34m\u001b[0m\u001b[0m\n\u001b[0;32m--> 143\u001b[0;31m       \u001b[0;32mraise\u001b[0m \u001b[0mFileNotFoundError\u001b[0m\u001b[0;34m(\u001b[0m\u001b[0mmsg\u001b[0m\u001b[0;34m)\u001b[0m  \u001b[0;31m# pylint: disable=undefined-variable\u001b[0m\u001b[0;34m\u001b[0m\u001b[0;34m\u001b[0m\u001b[0m\n\u001b[0m\u001b[1;32m    144\u001b[0m \u001b[0;34m\u001b[0m\u001b[0m\n\u001b[1;32m    145\u001b[0m   \u001b[0mcomm_manager\u001b[0m \u001b[0;34m=\u001b[0m \u001b[0m_IPython\u001b[0m\u001b[0;34m.\u001b[0m\u001b[0mget_ipython\u001b[0m\u001b[0;34m(\u001b[0m\u001b[0;34m)\u001b[0m\u001b[0;34m.\u001b[0m\u001b[0mkernel\u001b[0m\u001b[0;34m.\u001b[0m\u001b[0mcomm_manager\u001b[0m\u001b[0;34m\u001b[0m\u001b[0;34m\u001b[0m\u001b[0m\n",
            "\u001b[0;31mFileNotFoundError\u001b[0m: Cannot find file: my_figure.jpg"
          ]
        }
      ]
    },
    {
      "cell_type": "code",
      "metadata": {
        "id": "xpltJeVlrDmH"
      },
      "source": [
        "import pandas as pd\n",
        "csv_test = pd.read_csv() # 파일 읽기"
      ],
      "execution_count": null,
      "outputs": []
    },
    {
      "cell_type": "code",
      "metadata": {
        "id": "IUFBVkozrIcz"
      },
      "source": [
        "csv_test.to_cst() # 쓰기"
      ],
      "execution_count": null,
      "outputs": []
    },
    {
      "cell_type": "code",
      "metadata": {
        "id": "gUzB11cUrNjq"
      },
      "source": [
        "rc = pd.read_csv(경로, header = None, encoding = 'euc-kr')\n",
        "rc.columns=['','','']\n",
        "rc.head(), rc.tail() # 미리보기\n",
        "print(rc.shape)\n",
        "print(rc.info())\n",
        "\n",
        "print(rc.dtypes)\n",
        "print(rc.초미세먼지.dtypes)\n",
        "\n",
        "print(rc.describe())\n",
        "print(rc.count())\n",
        "\n",
        "print(rc.['초미세먼지'].value_counts())"
      ],
      "execution_count": null,
      "outputs": []
    },
    {
      "cell_type": "code",
      "metadata": {
        "id": "tIPYqGcBruG-"
      },
      "source": [
        "rc.mean()\n",
        "rc['초미세먼지'].mean()\n",
        "rc.median\n",
        "rc['초미세먼지'].median()\n",
        "rc.max()\n",
        "rc.min()\n",
        "rc.std() \n",
        "rc.corr()\n",
        "rc['초미세먼지', '미세먼지'].corr()"
      ],
      "execution_count": null,
      "outputs": []
    },
    {
      "cell_type": "code",
      "metadata": {
        "id": "KGIi2ZVTrzBk"
      },
      "source": [
        "!apt -qq -y install fonts-nanum # 내장함수"
      ],
      "execution_count": null,
      "outputs": []
    },
    {
      "cell_type": "code",
      "metadata": {
        "colab": {
          "base_uri": "https://localhost:8080/",
          "height": 34
        },
        "id": "7wcJe3MTpUdT",
        "outputId": "8edbcddb-24c4-4816-8d90-da79cabe4442"
      },
      "source": [
        "# 1. 선 그림\n",
        "\n",
        "%matplotlib inline\n",
        "\n",
        "import matplotlib.pyplot as plt\n",
        "plt.style.use('seaborn-whitegrid')\n",
        "import numpy as np\n",
        "fig = plt.figure()\n",
        "fig.suptitle(\"Example 1:Line Plot\")\n",
        "ax = plt.axes"
      ],
      "execution_count": 4,
      "outputs": [
        {
          "output_type": "display_data",
          "data": {
            "text/plain": [
              "<Figure size 432x288 with 0 Axes>"
            ]
          },
          "metadata": {
            "tags": []
          }
        }
      ]
    },
    {
      "cell_type": "code",
      "metadata": {
        "colab": {
          "base_uri": "https://localhost:8080/",
          "height": 262
        },
        "id": "oyqqXNakpYwJ",
        "outputId": "8209c815-53fd-4c85-df11-07409f8208c7"
      },
      "source": [
        "# 3. 점 그림\n",
        "\n",
        "x = np.linspace(0, 15, 25)\n",
        "plt.plot(x, x, 'o', color='r')\n",
        "plt.plot(x, x+2, '.', color='g')\n",
        "plt.plot(x, x+4, 's-', color='b')\n",
        "plt.plot(x, x+6, 'd--', color='c');"
      ],
      "execution_count": 5,
      "outputs": [
        {
          "output_type": "display_data",
          "data": {
            "image/png": "[encoded data removed]",
            "text/plain": [
              "<Figure size 432x288 with 1 Axes>"
            ]
          },
          "metadata": {
            "tags": []
          }
        }
      ]
    },
    {
      "cell_type": "code",
      "metadata": {
        "colab": {
          "base_uri": "https://localhost:8080/",
          "height": 262
        },
        "id": "ZaJwYdkhpfO-",
        "outputId": "d8b9cb45-bdbe-45f8-fa5b-47b7940f0565"
      },
      "source": [
        "plt.plot(x, np.sin(x), '-og');"
      ],
      "execution_count": 6,
      "outputs": [
        {
          "output_type": "display_data",
          "data": {
            "image/png": "[encoded data removed]",
            "text/plain": [
              "<Figure size 432x288 with 1 Axes>"
            ]
          },
          "metadata": {
            "tags": []
          }
        }
      ]
    },
    {
      "cell_type": "code",
      "metadata": {
        "colab": {
          "base_uri": "https://localhost:8080/",
          "height": 134
        },
        "id": "emJb5h_ophJS",
        "outputId": "5f0645d4-7d24-44b0-fac7-6f3252b9445b"
      },
      "source": [
        "mg = np.random.RandomState(seed=0)\n",
        "data = mg.randn(50, 2)\n",
        "x, y = data[:,0], data[:,1] colors = mg.rand(50)\n",
        "sizes = 1000*mg.rand(50)plt.subplot(2, 1, 1)\n",
        "plt.scateer(x, y, c = colors, s = sizes, alpha=0.4,\n",
        "            cmap = 'plasma')\n",
        "plt.colorbar()\n",
        "plt.subplot(2, 1, 2)\n",
        "plt.scatter(x, y, c=colors, s=sizes, alpha=0.4,\n",
        "            cmap='viridis')\n",
        "plt.colorbar"
      ],
      "execution_count": 7,
      "outputs": [
        {
          "output_type": "error",
          "ename": "SyntaxError",
          "evalue": "ignored",
          "traceback": [
            "\u001b[0;36m  File \u001b[0;32m\"<ipython-input-7-7ff4a84d0880>\"\u001b[0;36m, line \u001b[0;32m3\u001b[0m\n\u001b[0;31m    x, y = data[:,0], data[:,1] colors = mg.rand(50)\u001b[0m\n\u001b[0m                                     ^\u001b[0m\n\u001b[0;31mSyntaxError\u001b[0m\u001b[0;31m:\u001b[0m invalid syntax\n"
          ]
        }
      ]
    },
    {
      "cell_type": "code",
      "metadata": {
        "id": "Zj1arS4GpjNe"
      },
      "source": [
        "%matplotlib inline\n",
        "import matplotlib.pyplot as plt\n",
        "plt.style.use('seaborn-whitegrid')\n",
        "import numpy as np\n",
        "\n",
        "nrows, ncols = 3, 4\n",
        "for i in range(nrows*ncols):\n",
        "  plt.subplot(nrows, ncols, i+1)\n",
        "  plt.text(0.5, 0.5, str((nrows, ncols, i+1)), fontsize=16, ha='center')"
      ],
      "execution_count": null,
      "outputs": []
    },
    {
      "cell_type": "code",
      "metadata": {
        "id": "O4g1mvkGpnxt"
      },
      "source": [
        "nrows, ncols = 3, 4\n",
        "grid = plt.GridSpec(nro, 4, wspace=0.4, hspace=0.4)\n",
        "ax1 = plt.subplot(grid[0,0])\n",
        "ax2 = plt.subplot(grid[0,1:3])\n",
        "ax3 = plt.subplot(grid[1:, :2])\n",
        "ax4 = plt.subplot(grid[1:,2])\n",
        "ax5 = plt.subplot(grid[:, 3])"
      ],
      "execution_count": null,
      "outputs": []
    },
    {
      "cell_type": "code",
      "metadata": {
        "id": "tObwpr1arklX"
      },
      "source": [
        ""
      ],
      "execution_count": null,
      "outputs": []
    }
  ]
}